{
 "cells": [
  {
   "cell_type": "markdown",
   "metadata": {},
   "source": [
    "### 100 Numpy Exercises\n",
    "\n",
    "[numpy-100](https://github.com/rougier/numpy-100)中文版及一些注解。"
   ]
  },
  {
   "cell_type": "markdown",
   "metadata": {},
   "source": [
    "#### 1. 导入Numpy"
   ]
  },
  {
   "cell_type": "code",
   "execution_count": 1,
   "metadata": {
    "ExecuteTime": {
     "end_time": "2019-09-11T03:49:32.699969Z",
     "start_time": "2019-09-11T03:49:32.617125Z"
    }
   },
   "outputs": [],
   "source": [
    "import numpy as np"
   ]
  },
  {
   "cell_type": "markdown",
   "metadata": {},
   "source": [
    "#### 2. 打印Numpy版本号及其配置"
   ]
  },
  {
   "cell_type": "code",
   "execution_count": 2,
   "metadata": {
    "ExecuteTime": {
     "end_time": "2019-09-11T03:49:32.772473Z",
     "start_time": "2019-09-11T03:49:32.703245Z"
    }
   },
   "outputs": [
    {
     "data": {
      "text/plain": [
       "'2.2.2'"
      ]
     },
     "execution_count": 2,
     "metadata": {},
     "output_type": "execute_result"
    }
   ],
   "source": [
    "np.__version__"
   ]
  },
  {
   "cell_type": "code",
   "execution_count": 3,
   "metadata": {
    "ExecuteTime": {
     "end_time": "2019-09-11T03:49:32.950061Z",
     "start_time": "2019-09-11T03:49:32.776738Z"
    }
   },
   "outputs": [
    {
     "name": "stdout",
     "output_type": "stream",
     "text": [
      "Build Dependencies:\n",
      "  blas:\n",
      "    detection method: system\n",
      "    found: true\n",
      "    include directory: unknown\n",
      "    lib directory: unknown\n",
      "    name: accelerate\n",
      "    openblas configuration: unknown\n",
      "    pc file directory: unknown\n",
      "    version: unknown\n",
      "  lapack:\n",
      "    detection method: system\n",
      "    found: true\n",
      "    include directory: unknown\n",
      "    lib directory: unknown\n",
      "    name: accelerate\n",
      "    openblas configuration: unknown\n",
      "    pc file directory: unknown\n",
      "    version: unknown\n",
      "Compilers:\n",
      "  c:\n",
      "    commands: cc\n",
      "    linker: ld64\n",
      "    name: clang\n",
      "    version: 15.0.0\n",
      "  c++:\n",
      "    commands: c++\n",
      "    linker: ld64\n",
      "    name: clang\n",
      "    version: 15.0.0\n",
      "  cython:\n",
      "    commands: cython\n",
      "    linker: cython\n",
      "    name: cython\n",
      "    version: 3.0.11\n",
      "Machine Information:\n",
      "  build:\n",
      "    cpu: aarch64\n",
      "    endian: little\n",
      "    family: aarch64\n",
      "    system: darwin\n",
      "  host:\n",
      "    cpu: aarch64\n",
      "    endian: little\n",
      "    family: aarch64\n",
      "    system: darwin\n",
      "Python Information:\n",
      "  path: /private/var/folders/84/5079cppj57s0lzywhyzcxkjc0000gn/T/build-env-39fxv5w7/bin/python\n",
      "  version: '3.13'\n",
      "SIMD Extensions:\n",
      "  baseline:\n",
      "  - NEON\n",
      "  - NEON_FP16\n",
      "  - NEON_VFPV4\n",
      "  - ASIMD\n",
      "  found:\n",
      "  - ASIMDHP\n",
      "  not found:\n",
      "  - ASIMDFHM\n",
      "\n"
     ]
    }
   ],
   "source": [
    "np.show_config()"
   ]
  },
  {
   "cell_type": "markdown",
   "metadata": {},
   "source": [
    "#### 3. 创建一个长度(size)为10的向量(vector)\n",
    "\n",
    "注意这里就是创建一个`np.ndarray`"
   ]
  },
  {
   "cell_type": "code",
   "execution_count": 4,
   "metadata": {
    "ExecuteTime": {
     "end_time": "2019-09-11T03:49:33.066448Z",
     "start_time": "2019-09-11T03:49:32.952997Z"
    }
   },
   "outputs": [
    {
     "data": {
      "text/plain": [
       "array([0., 0., 0., 0., 0., 0., 0., 0., 0., 0.])"
      ]
     },
     "execution_count": 4,
     "metadata": {},
     "output_type": "execute_result"
    }
   ],
   "source": [
    "z = np.zeros(10)\n",
    "z"
   ]
  },
  {
   "cell_type": "markdown",
   "metadata": {},
   "source": [
    "#### 4. 计算数组的内存大小"
   ]
  },
  {
   "cell_type": "code",
   "execution_count": 5,
   "metadata": {
    "ExecuteTime": {
     "end_time": "2019-09-11T03:49:33.178978Z",
     "start_time": "2019-09-11T03:49:33.071288Z"
    }
   },
   "outputs": [
    {
     "name": "stdout",
     "output_type": "stream",
     "text": [
      "800 bytes\n"
     ]
    }
   ],
   "source": [
    "z = np.zeros((10, 10))\n",
    "print(\"%d bytes\" % (z.size * z.itemsize))"
   ]
  },
  {
   "cell_type": "markdown",
   "metadata": {},
   "source": [
    "注意这里就是简单的把总元素个数`z.size`（100）， 乘上单个元素所占的内存`z.itemsize`(8 bytes)."
   ]
  },
  {
   "cell_type": "markdown",
   "metadata": {},
   "source": [
    "#### 5. 在命令行打印出Numpy中add函数的帮助文档信息"
   ]
  },
  {
   "cell_type": "markdown",
   "metadata": {},
   "source": [
    "这里主要是有关命令行调用Python的问题，我们可以在命令行从`python --help`开始， 找到`python -c`符合我们的要求，所以这里只需要在命令行执行`python -c \"import numpy; numpy.info(numpy.add)\"`即可。就等同于在Python解释器中执行如下程序：\n",
    "```python\n",
    "import numpy\n",
    "numpy.info(numpy.add)\n",
    "```"
   ]
  },
  {
   "cell_type": "markdown",
   "metadata": {},
   "source": [
    "此外，针对Numpy,我们可以有很多种方式查看文档:上面的`np.info(np.add)`, 以及利用help的`help(np.add)`, 和比较少用的doc方法的调用`print(np.add.__doc__)`（输出和`np.info`一致）, 一般来说用`np.info`就可以了，也比较方便。如果使用`IPython`的话，可以直接`np.add?`回车"
   ]
  },
  {
   "cell_type": "markdown",
   "metadata": {},
   "source": [
    "#### 6. 创建一个长度为10的向量，其第五个值为1， 其他为0"
   ]
  },
  {
   "cell_type": "code",
   "execution_count": 6,
   "metadata": {
    "ExecuteTime": {
     "end_time": "2019-09-11T03:49:33.298830Z",
     "start_time": "2019-09-11T03:49:33.183197Z"
    }
   },
   "outputs": [
    {
     "data": {
      "text/plain": [
       "array([0., 0., 0., 0., 1., 0., 0., 0., 0., 0.])"
      ]
     },
     "execution_count": 6,
     "metadata": {},
     "output_type": "execute_result"
    }
   ],
   "source": [
    "z = np.zeros(10)\n",
    "z[4] = 1\n",
    "z"
   ]
  },
  {
   "cell_type": "markdown",
   "metadata": {},
   "source": [
    "#### 7. 创建一个包含从10到49所有整数的向量"
   ]
  },
  {
   "cell_type": "code",
   "execution_count": 7,
   "metadata": {
    "ExecuteTime": {
     "end_time": "2019-09-11T03:49:33.431088Z",
     "start_time": "2019-09-11T03:49:33.302201Z"
    }
   },
   "outputs": [
    {
     "data": {
      "text/plain": [
       "array([10, 11, 12, 13, 14, 15, 16, 17, 18, 19, 20, 21, 22, 23, 24, 25, 26,\n",
       "       27, 28, 29, 30, 31, 32, 33, 34, 35, 36, 37, 38, 39, 40, 41, 42, 43,\n",
       "       44, 45, 46, 47, 48, 49])"
      ]
     },
     "execution_count": 7,
     "metadata": {},
     "output_type": "execute_result"
    }
   ],
   "source": [
    "z = np.arange(10, 50)\n",
    "z"
   ]
  },
  {
   "cell_type": "markdown",
   "metadata": {},
   "source": [
    "注意Python也有内建函数`range`具有相似的功能，相对而言，Numpy的`arange`由于使用了内存优化技术，其效率要高很多。我们可以做个简单的水平对比。例子来自*Scipy Lecture Notes*"
   ]
  },
  {
   "cell_type": "code",
   "execution_count": 8,
   "metadata": {
    "ExecuteTime": {
     "end_time": "2019-09-11T03:49:36.102891Z",
     "start_time": "2019-09-11T03:49:33.434005Z"
    }
   },
   "outputs": [
    {
     "name": "stdout",
     "output_type": "stream",
     "text": [
      "28.5 μs ± 170 ns per loop (mean ± std. dev. of 7 runs, 10,000 loops each)\n"
     ]
    }
   ],
   "source": [
    "%timeit [i**2 for i in range(1000)]"
   ]
  },
  {
   "cell_type": "code",
   "execution_count": 9,
   "metadata": {
    "ExecuteTime": {
     "end_time": "2019-09-11T03:49:40.255287Z",
     "start_time": "2019-09-11T03:49:36.106755Z"
    }
   },
   "outputs": [
    {
     "name": "stdout",
     "output_type": "stream",
     "text": [
      "1.04 μs ± 18.4 ns per loop (mean ± std. dev. of 7 runs, 1,000,000 loops each)\n"
     ]
    }
   ],
   "source": [
    "%timeit a = np.arange(1000) ** 2"
   ]
  },
  {
   "cell_type": "markdown",
   "metadata": {},
   "source": [
    "#### 8. 反转一个向量（逆序）"
   ]
  },
  {
   "cell_type": "code",
   "execution_count": 10,
   "metadata": {
    "ExecuteTime": {
     "end_time": "2019-09-11T03:49:40.269259Z",
     "start_time": "2019-09-11T03:49:40.259880Z"
    }
   },
   "outputs": [
    {
     "data": {
      "text/plain": [
       "array([0, 1, 2, 3, 4, 5, 6, 7, 8, 9])"
      ]
     },
     "execution_count": 10,
     "metadata": {},
     "output_type": "execute_result"
    }
   ],
   "source": [
    "z = np.arange(10)\n",
    "z"
   ]
  },
  {
   "cell_type": "code",
   "execution_count": 11,
   "metadata": {
    "ExecuteTime": {
     "end_time": "2019-09-11T03:49:40.475272Z",
     "start_time": "2019-09-11T03:49:40.272776Z"
    }
   },
   "outputs": [
    {
     "data": {
      "text/plain": [
       "array([9, 8, 7, 6, 5, 4, 3, 2, 1, 0])"
      ]
     },
     "execution_count": 11,
     "metadata": {},
     "output_type": "execute_result"
    }
   ],
   "source": [
    "z = z[::-1]\n",
    "z"
   ]
  },
  {
   "cell_type": "markdown",
   "metadata": {},
   "source": [
    "#### 9. 创建一个3x3的矩阵， 包含数字0到8"
   ]
  },
  {
   "cell_type": "code",
   "execution_count": 12,
   "metadata": {
    "ExecuteTime": {
     "end_time": "2019-09-11T03:49:40.619246Z",
     "start_time": "2019-09-11T03:49:40.477495Z"
    }
   },
   "outputs": [
    {
     "data": {
      "text/plain": [
       "array([[0, 1, 2],\n",
       "       [3, 4, 5],\n",
       "       [6, 7, 8]])"
      ]
     },
     "execution_count": 12,
     "metadata": {},
     "output_type": "execute_result"
    }
   ],
   "source": [
    "z = np.arange(0, 9).reshape(3, 3)\n",
    "z"
   ]
  },
  {
   "cell_type": "markdown",
   "metadata": {},
   "source": [
    "这里可以在原题目的基础上进行拓展，上面的实现中0到8是可以看作以行为顺序，如我我们希望0到8以列为顺序排列呢？"
   ]
  },
  {
   "cell_type": "code",
   "execution_count": 13,
   "metadata": {
    "ExecuteTime": {
     "end_time": "2019-09-11T03:49:40.765815Z",
     "start_time": "2019-09-11T03:49:40.624184Z"
    }
   },
   "outputs": [
    {
     "data": {
      "text/plain": [
       "array([[0, 3, 6],\n",
       "       [1, 4, 7],\n",
       "       [2, 5, 8]])"
      ]
     },
     "execution_count": 13,
     "metadata": {},
     "output_type": "execute_result"
    }
   ],
   "source": [
    "# 列为顺序\n",
    "z = np.arange(0, 9).reshape(3, 3).T\n",
    "z"
   ]
  },
  {
   "cell_type": "markdown",
   "metadata": {},
   "source": [
    "其实只需要把原来的矩阵转置就可以了:-)"
   ]
  },
  {
   "cell_type": "markdown",
   "metadata": {},
   "source": [
    "#### 10. 找出[1,2,0,0,4,0] 中非0数字的位置"
   ]
  },
  {
   "cell_type": "code",
   "execution_count": 14,
   "metadata": {
    "ExecuteTime": {
     "end_time": "2019-09-11T03:49:40.917616Z",
     "start_time": "2019-09-11T03:49:40.768428Z"
    }
   },
   "outputs": [
    {
     "data": {
      "text/plain": [
       "(array([0, 1, 4]),)"
      ]
     },
     "execution_count": 14,
     "metadata": {},
     "output_type": "execute_result"
    }
   ],
   "source": [
    "z = np.array([1,2,0,0,4,0])\n",
    "z.nonzero()"
   ]
  },
  {
   "cell_type": "markdown",
   "metadata": {},
   "source": [
    "#### 11. 创建3x3的单位矩阵"
   ]
  },
  {
   "cell_type": "code",
   "execution_count": 15,
   "metadata": {
    "ExecuteTime": {
     "end_time": "2019-09-11T03:49:41.120723Z",
     "start_time": "2019-09-11T03:49:40.922828Z"
    }
   },
   "outputs": [
    {
     "data": {
      "text/plain": [
       "array([[1., 0., 0.],\n",
       "       [0., 1., 0.],\n",
       "       [0., 0., 1.]])"
      ]
     },
     "execution_count": 15,
     "metadata": {},
     "output_type": "execute_result"
    }
   ],
   "source": [
    "z = np.eye(3)\n",
    "z"
   ]
  },
  {
   "cell_type": "markdown",
   "metadata": {},
   "source": [
    "#### 12. 创建3x3x3数组，以随机数字填充"
   ]
  },
  {
   "cell_type": "code",
   "execution_count": 16,
   "metadata": {
    "ExecuteTime": {
     "end_time": "2019-09-11T03:49:41.232475Z",
     "start_time": "2019-09-11T03:49:41.126731Z"
    }
   },
   "outputs": [
    {
     "data": {
      "text/plain": [
       "array([[[0.95709193, 0.65950534, 0.35510876],\n",
       "        [0.73526935, 0.952509  , 0.63143663],\n",
       "        [0.22157538, 0.14936922, 0.92790396]],\n",
       "\n",
       "       [[0.85755489, 0.15888614, 0.25922488],\n",
       "        [0.80519362, 0.13342282, 0.99565803],\n",
       "        [0.26066336, 0.28903658, 0.00349954]],\n",
       "\n",
       "       [[0.40903044, 0.05319267, 0.32809001],\n",
       "        [0.45777987, 0.22179884, 0.34264761],\n",
       "        [0.41347627, 0.34664677, 0.90492689]]])"
      ]
     },
     "execution_count": 16,
     "metadata": {},
     "output_type": "execute_result"
    }
   ],
   "source": [
    "z = np.random.random((3, 3, 3))\n",
    "z"
   ]
  },
  {
   "cell_type": "markdown",
   "metadata": {},
   "source": [
    "#### 13. 创建10x10数组，以随机数字填充，并找出其中的最大值和最小值"
   ]
  },
  {
   "cell_type": "code",
   "execution_count": 17,
   "metadata": {
    "ExecuteTime": {
     "end_time": "2019-09-11T03:49:41.398412Z",
     "start_time": "2019-09-11T03:49:41.235214Z"
    }
   },
   "outputs": [
    {
     "data": {
      "text/plain": [
       "array([[8.05496506e-01, 4.65621278e-02, 6.67408421e-01, 9.41876078e-01,\n",
       "        4.50346971e-01, 8.22052935e-01, 9.77155024e-01, 8.71810792e-01,\n",
       "        1.28490441e-01, 4.85463259e-01],\n",
       "       [4.42746783e-02, 2.51582772e-01, 1.07499274e-01, 7.69940896e-01,\n",
       "        2.95195325e-01, 3.39857349e-01, 3.47018934e-01, 9.68137404e-01,\n",
       "        6.88023433e-01, 1.32744280e-01],\n",
       "       [8.03365720e-02, 7.10596008e-01, 2.56469656e-01, 5.11447751e-01,\n",
       "        9.21696128e-01, 3.33696541e-01, 2.31604978e-02, 2.62475728e-01,\n",
       "        2.85439725e-01, 5.24909210e-01],\n",
       "       [3.13073284e-01, 3.19722958e-01, 7.83760720e-01, 7.85872892e-01,\n",
       "        7.17605633e-01, 7.36619875e-01, 5.45430313e-01, 5.93434407e-01,\n",
       "        6.88668797e-01, 4.94682947e-01],\n",
       "       [7.34846067e-01, 3.23591591e-01, 8.39222033e-01, 6.32244483e-01,\n",
       "        3.50157862e-01, 6.92822740e-01, 3.40849343e-01, 4.33263427e-04,\n",
       "        3.05031695e-01, 6.13229479e-01],\n",
       "       [2.43755967e-01, 9.68124217e-02, 8.17615491e-01, 3.55495032e-01,\n",
       "        5.51468199e-01, 8.56950977e-01, 8.68286097e-01, 4.32613332e-02,\n",
       "        2.68894387e-01, 8.36974037e-01],\n",
       "       [7.34802899e-02, 9.85609449e-01, 9.63065753e-01, 9.71627125e-01,\n",
       "        5.63036971e-01, 8.26820527e-01, 7.07130689e-01, 4.69241179e-01,\n",
       "        3.73210015e-01, 3.45225287e-01],\n",
       "       [6.77645890e-01, 5.71998745e-01, 6.26290026e-01, 1.05932949e-01,\n",
       "        7.11424449e-01, 3.24077690e-01, 6.66593356e-01, 7.64717569e-01,\n",
       "        9.49468258e-01, 4.88069010e-02],\n",
       "       [6.01529118e-01, 4.70845690e-01, 3.58873816e-01, 8.23465632e-01,\n",
       "        3.32534008e-01, 7.74690584e-01, 4.27697266e-01, 5.95552628e-01,\n",
       "        3.57572798e-01, 4.33606870e-01],\n",
       "       [5.23545593e-01, 1.94999446e-01, 7.58541312e-01, 2.77611152e-01,\n",
       "        4.20343877e-01, 1.88627047e-01, 4.28194023e-01, 7.60561814e-01,\n",
       "        6.77909539e-02, 9.24095236e-01]])"
      ]
     },
     "execution_count": 17,
     "metadata": {},
     "output_type": "execute_result"
    }
   ],
   "source": [
    "z = np.random.random((10, 10))\n",
    "z"
   ]
  },
  {
   "cell_type": "code",
   "execution_count": 18,
   "metadata": {
    "ExecuteTime": {
     "end_time": "2019-09-11T03:49:41.563402Z",
     "start_time": "2019-09-11T03:49:41.402197Z"
    }
   },
   "outputs": [
    {
     "data": {
      "text/plain": [
       "(np.float64(0.9856094487932618), np.float64(0.00043326342731708767))"
      ]
     },
     "execution_count": 18,
     "metadata": {},
     "output_type": "execute_result"
    }
   ],
   "source": [
    "z.max(), z.min()"
   ]
  },
  {
   "cell_type": "markdown",
   "metadata": {},
   "source": [
    "#### 14. 创建长度为10的随机向量，并计算其均值"
   ]
  },
  {
   "cell_type": "code",
   "execution_count": 19,
   "metadata": {
    "ExecuteTime": {
     "end_time": "2019-09-11T03:49:41.682163Z",
     "start_time": "2019-09-11T03:49:41.568588Z"
    }
   },
   "outputs": [
    {
     "data": {
      "text/plain": [
       "array([0.31656849, 0.12120402, 0.14639658, 0.32845772, 0.44244984,\n",
       "       0.31847273, 0.62570156, 0.66758073, 0.10814074, 0.34712609])"
      ]
     },
     "execution_count": 19,
     "metadata": {},
     "output_type": "execute_result"
    }
   ],
   "source": [
    "z = np.random.random((10))\n",
    "z"
   ]
  },
  {
   "cell_type": "code",
   "execution_count": 20,
   "metadata": {
    "ExecuteTime": {
     "end_time": "2019-09-11T03:49:41.803527Z",
     "start_time": "2019-09-11T03:49:41.684596Z"
    }
   },
   "outputs": [
    {
     "data": {
      "text/plain": [
       "np.float64(0.34220984962524126)"
      ]
     },
     "execution_count": 20,
     "metadata": {},
     "output_type": "execute_result"
    }
   ],
   "source": [
    "z.mean()"
   ]
  },
  {
   "cell_type": "markdown",
   "metadata": {},
   "source": [
    "#### 15. 创建一个二维数组，其边界值为1，内部值为0"
   ]
  },
  {
   "cell_type": "code",
   "execution_count": 21,
   "metadata": {
    "ExecuteTime": {
     "end_time": "2019-09-11T03:49:42.138106Z",
     "start_time": "2019-09-11T03:49:41.805744Z"
    }
   },
   "outputs": [
    {
     "data": {
      "text/plain": [
       "array([[1., 1., 1., 1., 1.],\n",
       "       [1., 0., 0., 0., 1.],\n",
       "       [1., 0., 0., 0., 1.],\n",
       "       [1., 0., 0., 0., 1.],\n",
       "       [1., 1., 1., 1., 1.]])"
      ]
     },
     "execution_count": 21,
     "metadata": {},
     "output_type": "execute_result"
    }
   ],
   "source": [
    "z = np.ones((5, 5))\n",
    "z[1:-1, 1:-1] = 0\n",
    "z"
   ]
  },
  {
   "cell_type": "markdown",
   "metadata": {},
   "source": [
    "#### 16. 将现有的数组（nxn）用0组成的边界包裹"
   ]
  },
  {
   "cell_type": "code",
   "execution_count": 22,
   "metadata": {
    "ExecuteTime": {
     "end_time": "2019-09-11T03:49:42.257544Z",
     "start_time": "2019-09-11T03:49:42.140432Z"
    }
   },
   "outputs": [
    {
     "data": {
      "text/plain": [
       "array([[1., 1., 1., 1., 1.],\n",
       "       [1., 1., 1., 1., 1.],\n",
       "       [1., 1., 1., 1., 1.],\n",
       "       [1., 1., 1., 1., 1.],\n",
       "       [1., 1., 1., 1., 1.]])"
      ]
     },
     "execution_count": 22,
     "metadata": {},
     "output_type": "execute_result"
    }
   ],
   "source": [
    "z = np.ones((5, 5))\n",
    "z"
   ]
  },
  {
   "cell_type": "code",
   "execution_count": 23,
   "metadata": {
    "ExecuteTime": {
     "end_time": "2019-09-11T03:49:42.402909Z",
     "start_time": "2019-09-11T03:49:42.266277Z"
    }
   },
   "outputs": [
    {
     "data": {
      "text/plain": [
       "array([[0., 0., 0., 0., 0., 0., 0.],\n",
       "       [0., 1., 1., 1., 1., 1., 0.],\n",
       "       [0., 1., 1., 1., 1., 1., 0.],\n",
       "       [0., 1., 1., 1., 1., 1., 0.],\n",
       "       [0., 1., 1., 1., 1., 1., 0.],\n",
       "       [0., 1., 1., 1., 1., 1., 0.],\n",
       "       [0., 0., 0., 0., 0., 0., 0.]])"
      ]
     },
     "execution_count": 23,
     "metadata": {},
     "output_type": "execute_result"
    }
   ],
   "source": [
    "m = np.pad(z, (1, 1), mode='constant', constant_values=0)\n",
    "m"
   ]
  },
  {
   "cell_type": "markdown",
   "metadata": {},
   "source": [
    "#### 17. 下列表达式的结果是什么\n",
    "```python\n",
    "0 * np.nan\n",
    "np.nan == np.nan\n",
    "np.inf > np.nan\n",
    "np.nan - np.nan\n",
    "np.nan in set([np.nan])\n",
    "0.3 == 3 * 0.1\n",
    "```"
   ]
  },
  {
   "cell_type": "code",
   "execution_count": 24,
   "metadata": {
    "ExecuteTime": {
     "end_time": "2019-09-11T03:49:42.540817Z",
     "start_time": "2019-09-11T03:49:42.409467Z"
    }
   },
   "outputs": [
    {
     "data": {
      "text/plain": [
       "nan"
      ]
     },
     "execution_count": 24,
     "metadata": {},
     "output_type": "execute_result"
    }
   ],
   "source": [
    "0 * np.nan"
   ]
  },
  {
   "cell_type": "markdown",
   "metadata": {
    "ExecuteTime": {
     "end_time": "2019-07-26T07:29:13.960984Z",
     "start_time": "2019-07-26T07:29:13.946213Z"
    }
   },
   "source": [
    "有`np.nan`参与的算术操作返回均为`np.nan`"
   ]
  },
  {
   "cell_type": "code",
   "execution_count": 25,
   "metadata": {
    "ExecuteTime": {
     "end_time": "2019-09-11T03:49:42.654735Z",
     "start_time": "2019-09-11T03:49:42.543095Z"
    }
   },
   "outputs": [
    {
     "data": {
      "text/plain": [
       "False"
      ]
     },
     "execution_count": 25,
     "metadata": {},
     "output_type": "execute_result"
    }
   ],
   "source": [
    "np.nan == np.nan"
   ]
  },
  {
   "cell_type": "markdown",
   "metadata": {
    "ExecuteTime": {
     "end_time": "2019-07-26T07:31:25.840312Z",
     "start_time": "2019-07-26T07:31:25.834403Z"
    }
   },
   "source": [
    "这里是合理的，比如我们从数据集读出两列数据全部是`np.nan`， 如果上面的表达式设计为返回`True`， \n",
    "那么我们在完全不知道两列数据的情况下就判定二者是相等的，这显然是不合理的。所以这里返回的是`False`."
   ]
  },
  {
   "cell_type": "code",
   "execution_count": 26,
   "metadata": {
    "ExecuteTime": {
     "end_time": "2019-09-11T03:49:42.790795Z",
     "start_time": "2019-09-11T03:49:42.657525Z"
    }
   },
   "outputs": [
    {
     "data": {
      "text/plain": [
       "False"
      ]
     },
     "execution_count": 26,
     "metadata": {},
     "output_type": "execute_result"
    }
   ],
   "source": [
    "np.inf > np.nan"
   ]
  },
  {
   "cell_type": "markdown",
   "metadata": {},
   "source": [
    "同样地，我们不能比较无穷大与缺失值的大小"
   ]
  },
  {
   "cell_type": "code",
   "execution_count": 27,
   "metadata": {
    "ExecuteTime": {
     "end_time": "2019-09-11T03:49:42.953977Z",
     "start_time": "2019-09-11T03:49:42.793102Z"
    }
   },
   "outputs": [
    {
     "data": {
      "text/plain": [
       "True"
      ]
     },
     "execution_count": 27,
     "metadata": {},
     "output_type": "execute_result"
    }
   ],
   "source": [
    "np.nan in set([np.nan])"
   ]
  },
  {
   "cell_type": "code",
   "execution_count": 28,
   "metadata": {
    "ExecuteTime": {
     "end_time": "2019-09-11T03:49:43.098558Z",
     "start_time": "2019-09-11T03:49:42.956231Z"
    }
   },
   "outputs": [
    {
     "data": {
      "text/plain": [
       "False"
      ]
     },
     "execution_count": 28,
     "metadata": {},
     "output_type": "execute_result"
    }
   ],
   "source": [
    "0.3 == 3 * 0.1"
   ]
  },
  {
   "cell_type": "markdown",
   "metadata": {},
   "source": [
    "由于浮点数（`float`）运算存在误差，我们不能直接比较其大小。Numpy为我们提供了`np.allclose`函数来比较浮点数之间的近似相等。此外，此函数还支持`np.ndarray`的比较。"
   ]
  },
  {
   "cell_type": "code",
   "execution_count": 29,
   "metadata": {
    "ExecuteTime": {
     "end_time": "2019-09-11T03:49:43.243316Z",
     "start_time": "2019-09-11T03:49:43.101995Z"
    }
   },
   "outputs": [
    {
     "data": {
      "text/plain": [
       "True"
      ]
     },
     "execution_count": 29,
     "metadata": {},
     "output_type": "execute_result"
    }
   ],
   "source": [
    "np.allclose(0.3, 3 * 0.1)"
   ]
  },
  {
   "cell_type": "markdown",
   "metadata": {},
   "source": [
    "#### 18. 创建一个5x5的矩阵，其中1，2，3，4正好在矩阵对角线元素下方"
   ]
  },
  {
   "cell_type": "code",
   "execution_count": 30,
   "metadata": {
    "ExecuteTime": {
     "end_time": "2019-09-11T03:49:43.352756Z",
     "start_time": "2019-09-11T03:49:43.246057Z"
    }
   },
   "outputs": [
    {
     "data": {
      "text/plain": [
       "array([[0, 0, 0, 0, 0],\n",
       "       [1, 0, 0, 0, 0],\n",
       "       [0, 2, 0, 0, 0],\n",
       "       [0, 0, 3, 0, 0],\n",
       "       [0, 0, 0, 4, 0]])"
      ]
     },
     "execution_count": 30,
     "metadata": {},
     "output_type": "execute_result"
    }
   ],
   "source": [
    "z = np.diag(np.arange(1, 5), k=-1)\n",
    "z"
   ]
  },
  {
   "cell_type": "markdown",
   "metadata": {},
   "source": [
    "#### 19. 创建一个8x8的矩阵，并用0，1标记为国际象棋棋盘的形式\n",
    "如下所示, 黑色部分标记为1.\n",
    "<img src=\"https://timgsa.baidu.com/timg?image&quality=80&size=b9999_10000&sec=1564734957&di=10e4e0640ee6888baf9593b9cc877934&imgtype=jpg&er=1&src=http%3A%2F%2Fpic.51yuansu.com%2Fpic3%2Fcover%2F02%2F10%2F13%2F599f0c01a035b_610.jpg\" alt=\"drawing\" width=\"200\"/>"
   ]
  },
  {
   "cell_type": "code",
   "execution_count": 31,
   "metadata": {
    "ExecuteTime": {
     "end_time": "2019-09-11T03:49:43.482723Z",
     "start_time": "2019-09-11T03:49:43.355668Z"
    }
   },
   "outputs": [
    {
     "data": {
      "text/plain": [
       "array([[0., 1., 0., 1., 0., 1., 0., 1.],\n",
       "       [1., 0., 1., 0., 1., 0., 1., 0.],\n",
       "       [0., 1., 0., 1., 0., 1., 0., 1.],\n",
       "       [1., 0., 1., 0., 1., 0., 1., 0.],\n",
       "       [0., 1., 0., 1., 0., 1., 0., 1.],\n",
       "       [1., 0., 1., 0., 1., 0., 1., 0.],\n",
       "       [0., 1., 0., 1., 0., 1., 0., 1.],\n",
       "       [1., 0., 1., 0., 1., 0., 1., 0.]])"
      ]
     },
     "execution_count": 31,
     "metadata": {},
     "output_type": "execute_result"
    }
   ],
   "source": [
    "z = np.zeros((8, 8))\n",
    "z[1::2, ::2] = 1  # 第2, 4, 6, 8行填充\n",
    "z[::2, 1::2] = 1  # 第1， 3， 5， 7行填充\n",
    "z"
   ]
  },
  {
   "cell_type": "markdown",
   "metadata": {},
   "source": [
    "#### 20. 现有维度为6x7x8的数组，找出其中第100个元素的索引(x, y, z)"
   ]
  },
  {
   "cell_type": "code",
   "execution_count": 32,
   "metadata": {
    "ExecuteTime": {
     "end_time": "2019-09-11T03:49:43.615740Z",
     "start_time": "2019-09-11T03:49:43.484877Z"
    }
   },
   "outputs": [
    {
     "name": "stdout",
     "output_type": "stream",
     "text": [
      "(np.int64(1), np.int64(5), np.int64(3))\n"
     ]
    }
   ],
   "source": [
    "print(np.unravel_index(99, (6, 7, 8)))"
   ]
  },
  {
   "cell_type": "markdown",
   "metadata": {},
   "source": [
    "上面的是给出的答案，一开始我并不知道这个函数，采用了下面的方法，可以作为参考。"
   ]
  },
  {
   "cell_type": "code",
   "execution_count": 33,
   "metadata": {
    "ExecuteTime": {
     "end_time": "2019-09-11T03:49:43.726704Z",
     "start_time": "2019-09-11T03:49:43.620487Z"
    }
   },
   "outputs": [
    {
     "data": {
      "text/plain": [
       "(array([1]), array([5]), array([3]))"
      ]
     },
     "execution_count": 33,
     "metadata": {},
     "output_type": "execute_result"
    }
   ],
   "source": [
    "z = np.arange(6*7*8).reshape(6, 7, 8)\n",
    "np.where(z == 99)"
   ]
  },
  {
   "cell_type": "markdown",
   "metadata": {},
   "source": [
    "这是通过Numpy找出来具体位置，但是具体计算的方法并未给出，这里简单解释下。\n",
    "\n",
    "首先，我们可以形象第考虑“数组的维度越往后，对应数据的颗粒度越小”，也就是说，在上面的例子中，我们可以认为6x7x8的立方体是通过如下的方法来构建的：先将所有的一列值(6 * 7 * 8)排成一行，之后每8个组成一个“长条”， 这样就有6*7个长条；之后将每7个长条，上下拼接，铺成一个平面；这样我们就有6个平面，将这6个平面堆起来，就得到了我们最终的“立方体”。\n",
    "\n",
    "那么第100个元素又在哪里呢？为方便起见，我们从“颗粒度”大的开始，依次定位其位置。首先，可以知道每一层含有7*8=56个元素，所以由`100 // 56 = 1`得其位于第二层， 对应到该维度得到索引就是1，即返回的`array[1]`。之后在第二层中继续定位， 去除第一层的56个元素，这里还剩下44个。又由于平面为7x8的，所以由`44 // 8 = 5`得其位于第6行，对应该维度的索引是5， 即返回的`array[5]`, 最后剩下4个元素在新的一行，对应维度的索引为3， 即返回的`array[3]`.由此得到最终的索引为（1， 5， 3）"
   ]
  },
  {
   "cell_type": "markdown",
   "metadata": {},
   "source": [
    "#### 21. 用`tile`函数创建一个8x8的棋盘"
   ]
  },
  {
   "cell_type": "code",
   "execution_count": 34,
   "metadata": {
    "ExecuteTime": {
     "end_time": "2019-09-11T03:49:43.839006Z",
     "start_time": "2019-09-11T03:49:43.729988Z"
    }
   },
   "outputs": [
    {
     "data": {
      "text/plain": [
       "array([[0, 1, 0, 1, 0, 1, 0, 1],\n",
       "       [1, 0, 1, 0, 1, 0, 1, 0],\n",
       "       [0, 1, 0, 1, 0, 1, 0, 1],\n",
       "       [1, 0, 1, 0, 1, 0, 1, 0],\n",
       "       [0, 1, 0, 1, 0, 1, 0, 1],\n",
       "       [1, 0, 1, 0, 1, 0, 1, 0],\n",
       "       [0, 1, 0, 1, 0, 1, 0, 1],\n",
       "       [1, 0, 1, 0, 1, 0, 1, 0]])"
      ]
     },
     "execution_count": 34,
     "metadata": {},
     "output_type": "execute_result"
    }
   ],
   "source": [
    "unit = np.array([[0, 1], [1, 0]])\n",
    "z = np.tile(unit, (4, 4))\n",
    "z"
   ]
  },
  {
   "cell_type": "markdown",
   "metadata": {},
   "source": [
    "`tile`的原意就是铺瓷砖，是其作用的一个形象的比喻，这里我们把8x8的棋盘划分为4x4=16块“瓷砖”（这里的`unit`）， 之后将其平铺在一起即可。"
   ]
  },
  {
   "cell_type": "markdown",
   "metadata": {},
   "source": [
    "#### 22. 标准化一个5x5的随机矩阵"
   ]
  },
  {
   "cell_type": "code",
   "execution_count": 35,
   "metadata": {
    "ExecuteTime": {
     "end_time": "2019-09-11T03:49:44.004250Z",
     "start_time": "2019-09-11T03:49:43.842328Z"
    }
   },
   "outputs": [
    {
     "data": {
      "text/plain": [
       "array([[ 0.61317741,  1.18385902, -1.21091714, -1.13024379,  0.0705589 ],\n",
       "       [ 0.86057684, -0.78773158,  0.8016129 ,  1.17939598, -0.28549129],\n",
       "       [ 1.1281301 , -1.57614262,  1.18365893,  0.52268643,  0.41031413],\n",
       "       [-1.37311055, -0.07265803, -0.5762986 ,  0.67714741,  1.00685361],\n",
       "       [ 0.28546704, -1.66121611,  1.28160814, -1.35424407, -1.17699305]])"
      ]
     },
     "execution_count": 35,
     "metadata": {},
     "output_type": "execute_result"
    }
   ],
   "source": [
    "z = np.random.random((5, 5))\n",
    "z = (z - z.mean()) / z.std()\n",
    "z"
   ]
  },
  {
   "cell_type": "markdown",
   "metadata": {},
   "source": [
    "#### 23. 创建一个自定义的包含四个无符号字节（RGBA）的`dtype`来描述颜色"
   ]
  },
  {
   "cell_type": "code",
   "execution_count": 36,
   "metadata": {
    "ExecuteTime": {
     "end_time": "2019-09-11T03:49:44.151349Z",
     "start_time": "2019-09-11T03:49:44.007290Z"
    }
   },
   "outputs": [
    {
     "data": {
      "text/plain": [
       "dtype([('r', 'u1', (1,)), ('g', 'u1', (1,)), ('b', 'u1', (1,)), ('a', 'u1', (1,))])"
      ]
     },
     "execution_count": 36,
     "metadata": {},
     "output_type": "execute_result"
    }
   ],
   "source": [
    "color = np.dtype([(\"r\", np.ubyte, 1),\n",
    "                  (\"g\", np.ubyte, 1),\n",
    "                  (\"b\", np.ubyte, 1),\n",
    "                  (\"a\", np.ubyte, 1)])\n",
    "color"
   ]
  },
  {
   "cell_type": "markdown",
   "metadata": {},
   "source": [
    "#### 24. 5x3的矩阵与3x2的矩阵相乘"
   ]
  },
  {
   "cell_type": "code",
   "execution_count": 37,
   "metadata": {
    "ExecuteTime": {
     "end_time": "2019-09-11T03:49:44.292114Z",
     "start_time": "2019-09-11T03:49:44.154087Z"
    }
   },
   "outputs": [
    {
     "data": {
      "text/plain": [
       "array([[3., 3.],\n",
       "       [3., 3.],\n",
       "       [3., 3.],\n",
       "       [3., 3.],\n",
       "       [3., 3.]])"
      ]
     },
     "execution_count": 37,
     "metadata": {},
     "output_type": "execute_result"
    }
   ],
   "source": [
    "z = np.dot(np.ones((5, 3)), np.ones((3, 2)))\n",
    "z"
   ]
  },
  {
   "cell_type": "code",
   "execution_count": 38,
   "metadata": {
    "ExecuteTime": {
     "end_time": "2019-09-11T03:49:44.720937Z",
     "start_time": "2019-09-11T03:49:44.295248Z"
    }
   },
   "outputs": [
    {
     "data": {
      "text/plain": [
       "array([[3., 3.],\n",
       "       [3., 3.],\n",
       "       [3., 3.],\n",
       "       [3., 3.],\n",
       "       [3., 3.]])"
      ]
     },
     "execution_count": 38,
     "metadata": {},
     "output_type": "execute_result"
    }
   ],
   "source": [
    "# 也可以使用操作符 @\n",
    "z = np.ones((5, 3)) @ np.ones((3, 2))\n",
    "z"
   ]
  },
  {
   "cell_type": "markdown",
   "metadata": {},
   "source": [
    "#### 25. 给定一个一维数组，将值在3和8之间的数字变为其负数"
   ]
  },
  {
   "cell_type": "code",
   "execution_count": 39,
   "metadata": {
    "ExecuteTime": {
     "end_time": "2019-09-11T03:49:44.896203Z",
     "start_time": "2019-09-11T03:49:44.724897Z"
    }
   },
   "outputs": [
    {
     "data": {
      "text/plain": [
       "array([ 0,  1,  2,  3, -4, -5, -6, -7,  8,  9])"
      ]
     },
     "execution_count": 39,
     "metadata": {},
     "output_type": "execute_result"
    }
   ],
   "source": [
    "z = np.arange(10)\n",
    "z[(z > 3) & (z < 8)] *= -1\n",
    "z"
   ]
  },
  {
   "cell_type": "markdown",
   "metadata": {
    "ExecuteTime": {
     "end_time": "2019-07-27T01:07:27.112409Z",
     "start_time": "2019-07-27T01:07:27.108092Z"
    }
   },
   "source": [
    "#### 26. 下面脚本的输出是什么\n",
    "\n",
    "```python\n",
    "# Author: Jake VanderPlas\n",
    "\n",
    "print(sum(range(5),-1))\n",
    "from numpy import *\n",
    "print(sum(range(5),-1))\n",
    "```"
   ]
  },
  {
   "cell_type": "code",
   "execution_count": 40,
   "metadata": {
    "ExecuteTime": {
     "end_time": "2019-09-11T03:49:45.155778Z",
     "start_time": "2019-09-11T03:49:44.898578Z"
    }
   },
   "outputs": [
    {
     "data": {
      "text/plain": [
       "9"
      ]
     },
     "execution_count": 40,
     "metadata": {},
     "output_type": "execute_result"
    }
   ],
   "source": [
    "sum(range(5), -1)"
   ]
  },
  {
   "cell_type": "markdown",
   "metadata": {},
   "source": [
    "这里是使用Python内置的`sum`函数, 它把所有的参数都当作求和的一部分相加， 这里就是简单地将所有的数字相加，10 - 1 = 9"
   ]
  },
  {
   "cell_type": "code",
   "execution_count": 41,
   "metadata": {
    "ExecuteTime": {
     "end_time": "2019-09-11T03:49:45.291321Z",
     "start_time": "2019-09-11T03:49:45.158199Z"
    }
   },
   "outputs": [
    {
     "data": {
      "text/plain": [
       "np.int64(10)"
      ]
     },
     "execution_count": 41,
     "metadata": {},
     "output_type": "execute_result"
    }
   ],
   "source": [
    "np.sum(range(5), -1)"
   ]
  },
  {
   "cell_type": "markdown",
   "metadata": {},
   "source": [
    "这里使用的是Numpy中的`np.sum`， 这里的`-1`并非待加的数字，而是另外一个参数的值，代表多维数组在求和时各个轴求和的顺序。具体可以`help(np.sum)`"
   ]
  },
  {
   "cell_type": "markdown",
   "metadata": {},
   "source": [
    "#### 27. `z`是整数组成的向量，判断下列表达式是否正确"
   ]
  },
  {
   "cell_type": "code",
   "execution_count": 42,
   "metadata": {
    "ExecuteTime": {
     "end_time": "2019-09-11T03:49:45.543706Z",
     "start_time": "2019-09-11T03:49:45.294109Z"
    }
   },
   "outputs": [
    {
     "data": {
      "text/plain": [
       "array([0, 1, 2, 3, 4, 5, 6, 7, 8, 9])"
      ]
     },
     "execution_count": 42,
     "metadata": {},
     "output_type": "execute_result"
    }
   ],
   "source": [
    "z = np.arange(10)\n",
    "z"
   ]
  },
  {
   "cell_type": "code",
   "execution_count": 43,
   "metadata": {
    "ExecuteTime": {
     "end_time": "2019-09-11T03:49:45.798091Z",
     "start_time": "2019-09-11T03:49:45.545682Z"
    }
   },
   "outputs": [
    {
     "data": {
      "text/plain": [
       "array([        1,         1,         4,        27,       256,      3125,\n",
       "           46656,    823543,  16777216, 387420489])"
      ]
     },
     "execution_count": 43,
     "metadata": {},
     "output_type": "execute_result"
    }
   ],
   "source": [
    "# 1\n",
    "z ** z"
   ]
  },
  {
   "cell_type": "markdown",
   "metadata": {},
   "source": [
    "前面提到过， 对于数组之间的`**`等算术运算， 是元素一一对应进行运算的(element-wise), 如这里387420489，就等于9**9"
   ]
  },
  {
   "cell_type": "code",
   "execution_count": 44,
   "metadata": {
    "ExecuteTime": {
     "end_time": "2019-09-11T03:49:45.932367Z",
     "start_time": "2019-09-11T03:49:45.800271Z"
    }
   },
   "outputs": [
    {
     "data": {
      "text/plain": [
       "array([  0,   1,   2,   4,   8,  16,  32,  64, 128, 256])"
      ]
     },
     "execution_count": 44,
     "metadata": {},
     "output_type": "execute_result"
    }
   ],
   "source": [
    "# 2\n",
    "2 << z >> 2"
   ]
  },
  {
   "cell_type": "markdown",
   "metadata": {},
   "source": [
    "本质上进行两次移位运算，也就是等于`(2 << z) >> 2`.下面将其拆开来看。"
   ]
  },
  {
   "cell_type": "code",
   "execution_count": 45,
   "metadata": {
    "ExecuteTime": {
     "end_time": "2019-09-11T03:49:46.076610Z",
     "start_time": "2019-09-11T03:49:45.935346Z"
    }
   },
   "outputs": [
    {
     "data": {
      "text/plain": [
       "array([   2,    4,    8,   16,   32,   64,  128,  256,  512, 1024])"
      ]
     },
     "execution_count": 45,
     "metadata": {},
     "output_type": "execute_result"
    }
   ],
   "source": [
    "2 << z"
   ]
  },
  {
   "cell_type": "markdown",
   "metadata": {},
   "source": [
    "就是将2分别左移0， 1， 2， ...， 9位，得到的就是`2 << 0, 2<<1, ..., 2<<9`,如下所示："
   ]
  },
  {
   "cell_type": "code",
   "execution_count": 46,
   "metadata": {
    "ExecuteTime": {
     "end_time": "2019-09-11T03:49:46.224939Z",
     "start_time": "2019-09-11T03:49:46.078951Z"
    }
   },
   "outputs": [
    {
     "data": {
      "text/plain": [
       "[2, 4, 8, 16, 32, 64, 128, 256, 512, 1024]"
      ]
     },
     "execution_count": 46,
     "metadata": {},
     "output_type": "execute_result"
    }
   ],
   "source": [
    "part1 = [2 << i for i in range(10)]\n",
    "part1"
   ]
  },
  {
   "cell_type": "markdown",
   "metadata": {},
   "source": [
    "可以看到与`2 << z`的输出是一致的。\n",
    "\n",
    "之后就是进行右移位操作，不同之处在于，这里是对于数组`2 << z`中的每个元素进行右移位，分别右移2个位置。每个数值右移2代表对每个值`x`，取`x // 4`, 对`part1`继续处理"
   ]
  },
  {
   "cell_type": "code",
   "execution_count": 47,
   "metadata": {
    "ExecuteTime": {
     "end_time": "2019-09-11T03:49:46.389122Z",
     "start_time": "2019-09-11T03:49:46.229727Z"
    }
   },
   "outputs": [
    {
     "data": {
      "text/plain": [
       "[0, 1, 2, 4, 8, 16, 32, 64, 128, 256]"
      ]
     },
     "execution_count": 47,
     "metadata": {},
     "output_type": "execute_result"
    }
   ],
   "source": [
    "[i // 4 for i in part1]"
   ]
  },
  {
   "cell_type": "markdown",
   "metadata": {},
   "source": [
    "可以看到其与`2 << z >> 2`的输出是一致的。"
   ]
  },
  {
   "cell_type": "code",
   "execution_count": 48,
   "metadata": {
    "ExecuteTime": {
     "end_time": "2019-09-11T03:49:46.498522Z",
     "start_time": "2019-09-11T03:49:46.393716Z"
    }
   },
   "outputs": [
    {
     "data": {
      "text/plain": [
       "array([False, False, False, False, False, False, False, False, False,\n",
       "       False])"
      ]
     },
     "execution_count": 48,
     "metadata": {},
     "output_type": "execute_result"
    }
   ],
   "source": [
    "# 3\n",
    "z <- z"
   ]
  },
  {
   "cell_type": "markdown",
   "metadata": {},
   "source": [
    "这里涉及的主要是优先级的问题，随便找个操作符，如`<`,通过`help(\"<\")`即可查看所有操作符的优先级，默认是从低优先级到高优先级。可以看到，`-1`相比`<`具有更高的优先级， 所以这里就等同于`z < (-z)`，测试如下"
   ]
  },
  {
   "cell_type": "code",
   "execution_count": 49,
   "metadata": {
    "ExecuteTime": {
     "end_time": "2019-09-11T03:49:46.640865Z",
     "start_time": "2019-09-11T03:49:46.503033Z"
    }
   },
   "outputs": [
    {
     "data": {
      "text/plain": [
       "array([False, False, False, False, False, False, False, False, False,\n",
       "       False])"
      ]
     },
     "execution_count": 49,
     "metadata": {},
     "output_type": "execute_result"
    }
   ],
   "source": [
    "z < (-z)"
   ]
  },
  {
   "cell_type": "code",
   "execution_count": 50,
   "metadata": {
    "ExecuteTime": {
     "end_time": "2019-09-11T03:49:46.772525Z",
     "start_time": "2019-09-11T03:49:46.645842Z"
    }
   },
   "outputs": [
    {
     "data": {
      "text/plain": [
       "array([0.+0.j, 0.+1.j, 0.+2.j, 0.+3.j, 0.+4.j, 0.+5.j, 0.+6.j, 0.+7.j,\n",
       "       0.+8.j, 0.+9.j])"
      ]
     },
     "execution_count": 50,
     "metadata": {},
     "output_type": "execute_result"
    }
   ],
   "source": [
    "# 4\n",
    "1j * z"
   ]
  },
  {
   "cell_type": "markdown",
   "metadata": {},
   "source": [
    "对复数的运算的支持"
   ]
  },
  {
   "cell_type": "code",
   "execution_count": 51,
   "metadata": {
    "ExecuteTime": {
     "end_time": "2019-09-11T03:49:46.919464Z",
     "start_time": "2019-09-11T03:49:46.774950Z"
    }
   },
   "outputs": [
    {
     "data": {
      "text/plain": [
       "array([0., 1., 2., 3., 4., 5., 6., 7., 8., 9.])"
      ]
     },
     "execution_count": 51,
     "metadata": {},
     "output_type": "execute_result"
    }
   ],
   "source": [
    "# 5\n",
    "z/1/1"
   ]
  },
  {
   "cell_type": "markdown",
   "metadata": {},
   "source": [
    "也就是`(z/1)/1`"
   ]
  },
  {
   "cell_type": "code",
   "execution_count": 52,
   "metadata": {
    "ExecuteTime": {
     "end_time": "2019-09-11T03:55:46.762027Z",
     "start_time": "2019-09-11T03:55:46.720423Z"
    }
   },
   "outputs": [
    {
     "name": "stdout",
     "output_type": "stream",
     "text": [
      "The truth value of an array with more than one element is ambiguous. Use a.any() or a.all()\n"
     ]
    }
   ],
   "source": [
    "# 6\n",
    "try:\n",
    "    z < z > z\n",
    "except Exception as e:\n",
    "    print(e)"
   ]
  },
  {
   "cell_type": "markdown",
   "metadata": {},
   "source": [
    "这里参考了下Python表达式的[文档](https://docs.python.org/2/reference/expressions.html#not-in),和[stackoverflow](https://stackoverflow.com/questions/18755059/is-abc-valid-python)\n",
    "找到\n",
    ">Formally, if `a, b, c, …, y, z` are expressions and `op1, op2, …, opN` are comparison operators, then a `op1 b op2 c ... y opN z` is equivalent to `a op1 b and b op2 c and ... y opN z`, except that each expression is evaluated at most once.\n",
    "\n",
    "就是说，在一个表达式里面进行连续比较的时候，如`x < y <= z`,首先是符合语法的，其等同于`x < y adn y <=z`, 只不过对于重复的元素（这里的`y`）只估计一次。所以我们在Python原生的`list`中进行上述`z`的运算是可以正常返回的，代码如下。"
   ]
  },
  {
   "cell_type": "code",
   "execution_count": 53,
   "metadata": {
    "ExecuteTime": {
     "end_time": "2019-09-11T03:49:47.198136Z",
     "start_time": "2019-09-11T03:49:47.057793Z"
    }
   },
   "outputs": [
    {
     "data": {
      "text/plain": [
       "False"
      ]
     },
     "execution_count": 53,
     "metadata": {},
     "output_type": "execute_result"
    }
   ],
   "source": [
    "l1 = [1, 2]\n",
    "l1 < l1 > l1"
   ]
  },
  {
   "cell_type": "code",
   "execution_count": 54,
   "metadata": {
    "ExecuteTime": {
     "end_time": "2019-09-11T03:49:47.339436Z",
     "start_time": "2019-09-11T03:49:47.200844Z"
    }
   },
   "outputs": [
    {
     "data": {
      "text/plain": [
       "False"
      ]
     },
     "execution_count": 54,
     "metadata": {},
     "output_type": "execute_result"
    }
   ],
   "source": [
    "(l1 < l1) and (l1 > l1)"
   ]
  },
  {
   "cell_type": "markdown",
   "metadata": {},
   "source": [
    "因为`l1 < l1`和`l1 > l1`全部是`False`,所以其`and`也是`False`.但是对于我们的`z`，也就是`np.ndarray`类型的数据，情况就有所不同。\n",
    "\n",
    "这里`z < z > z`依旧是估计为`z < z and z > z`, 其中`z < z`与`z > z`都是可以正常返回的，且结果都是一个长度为`z.size()`的`array`， 元素全部是布尔值。"
   ]
  },
  {
   "cell_type": "code",
   "execution_count": 55,
   "metadata": {
    "ExecuteTime": {
     "end_time": "2019-09-11T03:49:47.492307Z",
     "start_time": "2019-09-11T03:49:47.344000Z"
    }
   },
   "outputs": [
    {
     "data": {
      "text/plain": [
       "array([False, False, False, False, False, False, False, False, False,\n",
       "       False])"
      ]
     },
     "execution_count": 55,
     "metadata": {},
     "output_type": "execute_result"
    }
   ],
   "source": [
    "z < z"
   ]
  },
  {
   "cell_type": "code",
   "execution_count": 56,
   "metadata": {
    "ExecuteTime": {
     "end_time": "2019-09-11T03:49:47.650527Z",
     "start_time": "2019-09-11T03:49:47.494732Z"
    }
   },
   "outputs": [
    {
     "data": {
      "text/plain": [
       "array([False, False, False, False, False, False, False, False, False,\n",
       "       False])"
      ]
     },
     "execution_count": 56,
     "metadata": {},
     "output_type": "execute_result"
    }
   ],
   "source": [
    "z > z"
   ]
  },
  {
   "cell_type": "markdown",
   "metadata": {},
   "source": [
    "不可行的是两者之间的`and`。 因为在进行`and`操作时，Numpy无法确切地知道形如`array([False, False, ...])`的数组到底是估计为`False`，还是`True`， 因为这里有两种方法来定义一个数组的布尔值：其一是`ａｌｌ`，即所有的元素全是`Ｔｒｕｅ`才判定为`Ｔｒｕｅ`，否则为`Ｆａｌｓｅ`；　另外一种方法是`ａｎｙ`，　即只要数组中有一个`Ｔｒｕｅ`，我们就判定其为`Ｔｒｕｅ`, 否则判定为`Ｆａｌｓｅ`. 正是这种不确定性使得Numpy报错，并建议使用`any`或者`all`."
   ]
  },
  {
   "cell_type": "markdown",
   "metadata": {},
   "source": [
    "#### 28. 下列表达式的结果是什么\n",
    "\n",
    "```python\n",
    "np.array(0) / np.array(0)\n",
    "np.array(0) // np.array(0)\n",
    "np.array([np.nan]).astype(int).astype(float)\n",
    "```"
   ]
  },
  {
   "cell_type": "code",
   "execution_count": 57,
   "metadata": {
    "ExecuteTime": {
     "end_time": "2019-09-11T03:49:47.805505Z",
     "start_time": "2019-09-11T03:49:47.654163Z"
    }
   },
   "outputs": [
    {
     "name": "stderr",
     "output_type": "stream",
     "text": [
      "/var/folders/kv/wz6tndhs14741rlxsq5pr17r0000gn/T/ipykernel_65993/873513115.py:1: RuntimeWarning: invalid value encountered in divide\n",
      "  np.array(0) / np.array(0)\n"
     ]
    },
    {
     "data": {
      "text/plain": [
       "np.float64(nan)"
      ]
     },
     "execution_count": 57,
     "metadata": {},
     "output_type": "execute_result"
    }
   ],
   "source": [
    "np.array(0) / np.array(0)"
   ]
  },
  {
   "cell_type": "markdown",
   "metadata": {},
   "source": [
    "返回`nan`并带有警告说在进行真除(true_divide)的时候出现问题，即0做分母。"
   ]
  },
  {
   "cell_type": "code",
   "execution_count": 58,
   "metadata": {
    "ExecuteTime": {
     "end_time": "2019-09-11T03:49:47.957116Z",
     "start_time": "2019-09-11T03:49:47.809627Z"
    }
   },
   "outputs": [
    {
     "name": "stderr",
     "output_type": "stream",
     "text": [
      "/var/folders/kv/wz6tndhs14741rlxsq5pr17r0000gn/T/ipykernel_65993/2018018105.py:1: RuntimeWarning: divide by zero encountered in floor_divide\n",
      "  np.array(0) // np.array(0)\n"
     ]
    },
    {
     "data": {
      "text/plain": [
       "np.int64(0)"
      ]
     },
     "execution_count": 58,
     "metadata": {},
     "output_type": "execute_result"
    }
   ],
   "source": [
    "np.array(0) // np.array(0)"
   ]
  },
  {
   "cell_type": "markdown",
   "metadata": {
    "ExecuteTime": {
     "end_time": "2019-07-27T02:35:08.133001Z",
     "start_time": "2019-07-27T02:35:08.127942Z"
    }
   },
   "source": [
    "返回0, 并带有警告说在进行地板除(floor_divide)的时候出现问题，即0做分母。"
   ]
  },
  {
   "cell_type": "code",
   "execution_count": 59,
   "metadata": {
    "ExecuteTime": {
     "end_time": "2019-09-11T03:49:48.100772Z",
     "start_time": "2019-09-11T03:49:47.959090Z"
    }
   },
   "outputs": [
    {
     "name": "stderr",
     "output_type": "stream",
     "text": [
      "/var/folders/kv/wz6tndhs14741rlxsq5pr17r0000gn/T/ipykernel_65993/699728972.py:1: RuntimeWarning: invalid value encountered in cast\n",
      "  np.array([np.nan]).astype(int).astype(float)\n"
     ]
    },
    {
     "data": {
      "text/plain": [
       "array([0.])"
      ]
     },
     "execution_count": 59,
     "metadata": {},
     "output_type": "execute_result"
    }
   ],
   "source": [
    "np.array([np.nan]).astype(int).astype(float)"
   ]
  },
  {
   "cell_type": "markdown",
   "metadata": {},
   "source": [
    "#### 29. 舍入浮点数数组，使其尽可能远离0\n",
    "即-0.3， -0.5， -0.6等近似为-1，而非0； 0.3， 0.5， 0.6等近似为1，而非0."
   ]
  },
  {
   "cell_type": "code",
   "execution_count": 60,
   "metadata": {
    "ExecuteTime": {
     "end_time": "2019-09-11T03:49:48.316377Z",
     "start_time": "2019-09-11T03:49:48.104398Z"
    }
   },
   "outputs": [
    {
     "data": {
      "text/plain": [
       "array([-9.34928659,  6.04285675,  1.11251881, -3.58287964, -3.22008604,\n",
       "       -2.56228086, -1.39730957,  3.09742972,  4.97093035,  3.06854743])"
      ]
     },
     "execution_count": 60,
     "metadata": {},
     "output_type": "execute_result"
    }
   ],
   "source": [
    "z = np.random.uniform(-10, 10, 10)\n",
    "z"
   ]
  },
  {
   "cell_type": "code",
   "execution_count": 61,
   "metadata": {
    "ExecuteTime": {
     "end_time": "2019-09-11T03:49:48.447435Z",
     "start_time": "2019-09-11T03:49:48.321511Z"
    }
   },
   "outputs": [
    {
     "data": {
      "text/plain": [
       "array([-10.,   7.,   2.,  -4.,  -4.,  -3.,  -2.,   4.,   5.,   4.])"
      ]
     },
     "execution_count": 61,
     "metadata": {},
     "output_type": "execute_result"
    }
   ],
   "source": [
    "np.copysign(np.ceil(np.abs(z)), z)"
   ]
  },
  {
   "cell_type": "markdown",
   "metadata": {},
   "source": [
    "#### 30. 找到两个数组中相同的元素"
   ]
  },
  {
   "cell_type": "markdown",
   "metadata": {},
   "source": [
    "~我们首先考虑内置的函数，但是我们不知道是否有类似的函数，所以我们可以灵活使用`np.lookfor`来找出我们要的函数.~\n",
    "\n",
    "`np.lookfor` was removed in the NumPy 2.0 release. Search NumPy's documentation directly."
   ]
  },
  {
   "cell_type": "code",
   "execution_count": 62,
   "metadata": {
    "ExecuteTime": {
     "end_time": "2019-09-11T03:51:40.995799Z",
     "start_time": "2019-09-11T03:51:40.990885Z"
    }
   },
   "outputs": [
    {
     "name": "stdout",
     "output_type": "stream",
     "text": [
      "Find the intersection of two arrays.\n",
      "\n",
      "Return the sorted, unique values that are in both of the input arrays.\n",
      "\n",
      "Parameters\n",
      "----------\n",
      "ar1, ar2 : array_like\n",
      "    Input arrays. Will be flattened if not already 1D.\n",
      "assume_unique : bool\n",
      "    If True, the input arrays are both assumed to be unique, which\n",
      "    can speed up the calculation.  If True but ``ar1`` or ``ar2`` are not\n",
      "    unique, incorrect results and out-of-bounds indices could result.\n",
      "    Default is False.\n",
      "return_indices : bool\n",
      "    If True, the indices which correspond to the intersection of the two\n",
      "    arrays are returned. The first instance of a value is used if there are\n",
      "    multiple. Default is False.\n",
      "\n",
      "Returns\n",
      "-------\n",
      "intersect1d : ndarray\n",
      "    Sorted 1D array of common and unique elements.\n",
      "comm1 : ndarray\n",
      "    The indices of the first occurrences of the common values in `ar1`.\n",
      "    Only provided if `return_indices` is True.\n",
      "comm2 : ndarray\n",
      "    The indices of the first occurrences of the common values in `ar2`.\n",
      "    Only provided if `return_indices` is True.\n",
      "\n",
      "Examples\n",
      "--------\n",
      ">>> import numpy as np\n",
      ">>> np.intersect1d([1, 3, 4, 3], [3, 1, 2, 1])\n",
      "array([1, 3])\n",
      "\n",
      "To intersect more than two arrays, use functools.reduce:\n",
      "\n",
      ">>> from functools import reduce\n",
      ">>> reduce(np.intersect1d, ([1, 3, 4, 3], [3, 1, 2, 1], [6, 3, 4, 2]))\n",
      "array([3])\n",
      "\n",
      "To return the indices of the values common to the input arrays\n",
      "along with the intersected values:\n",
      "\n",
      ">>> x = np.array([1, 1, 2, 3, 4])\n",
      ">>> y = np.array([2, 1, 4, 6])\n",
      ">>> xy, x_ind, y_ind = np.intersect1d(x, y, return_indices=True)\n",
      ">>> x_ind, y_ind\n",
      "(array([0, 2, 4]), array([1, 0, 2]))\n",
      ">>> xy, x[x_ind], y[y_ind]\n",
      "(array([1, 2, 4]), array([1, 2, 4]), array([1, 2, 4]))\n"
     ]
    }
   ],
   "source": [
    "np.info(np.intersect1d)"
   ]
  },
  {
   "cell_type": "markdown",
   "metadata": {},
   "source": [
    "根据文档就可以直接使用了。"
   ]
  },
  {
   "cell_type": "code",
   "execution_count": 63,
   "metadata": {
    "ExecuteTime": {
     "end_time": "2019-09-11T03:51:41.354463Z",
     "start_time": "2019-09-11T03:51:41.348401Z"
    }
   },
   "outputs": [
    {
     "data": {
      "text/plain": [
       "array([0, 1, 2, 3, 4])"
      ]
     },
     "execution_count": 63,
     "metadata": {},
     "output_type": "execute_result"
    }
   ],
   "source": [
    "z1 = np.arange(-5, 5)\n",
    "z2 = np.arange(10)\n",
    "np.intersect1d(z1, z2)"
   ]
  },
  {
   "cell_type": "markdown",
   "metadata": {},
   "source": [
    "#### 31. 如何忽视所有Numpy的警告（不推荐）"
   ]
  },
  {
   "cell_type": "code",
   "execution_count": 64,
   "metadata": {
    "ExecuteTime": {
     "end_time": "2019-09-11T03:51:41.656102Z",
     "start_time": "2019-09-11T03:51:41.649821Z"
    }
   },
   "outputs": [],
   "source": [
    "# 自杀模式启动:-)\n",
    "defaults = np.seterr(all=\"ignore\")\n",
    "Z = np.ones(1) / 0\n",
    "# 恢复理智\n",
    "_ = np.seterr(**defaults)"
   ]
  },
  {
   "cell_type": "code",
   "execution_count": 65,
   "metadata": {
    "ExecuteTime": {
     "end_time": "2019-09-11T03:51:41.813895Z",
     "start_time": "2019-09-11T03:51:41.809197Z"
    }
   },
   "outputs": [
    {
     "name": "stderr",
     "output_type": "stream",
     "text": [
      "/var/folders/kv/wz6tndhs14741rlxsq5pr17r0000gn/T/ipykernel_65993/1125215274.py:3: RuntimeWarning: divide by zero encountered in divide\n",
      "  Z = np.ones(1) / 0\n"
     ]
    }
   ],
   "source": [
    "# 也可以定义错误处理的细节\n",
    "with np.errstate(divide='warn'):\n",
    "    Z = np.ones(1) / 0"
   ]
  },
  {
   "cell_type": "markdown",
   "metadata": {},
   "source": [
    "#### 32. 下面的表达式会返回`True`吗\n",
    "```python\n",
    "np.sqrt(-1) == np.emath.sqrt(-1)\n",
    "```"
   ]
  },
  {
   "cell_type": "code",
   "execution_count": 66,
   "metadata": {
    "ExecuteTime": {
     "end_time": "2019-09-11T03:51:42.163468Z",
     "start_time": "2019-09-11T03:51:42.156328Z"
    }
   },
   "outputs": [
    {
     "name": "stderr",
     "output_type": "stream",
     "text": [
      "/var/folders/kv/wz6tndhs14741rlxsq5pr17r0000gn/T/ipykernel_65993/244602691.py:1: RuntimeWarning: invalid value encountered in sqrt\n",
      "  np.sqrt(-1) == np.emath.sqrt(-1)\n"
     ]
    },
    {
     "data": {
      "text/plain": [
       "np.False_"
      ]
     },
     "execution_count": 66,
     "metadata": {},
     "output_type": "execute_result"
    }
   ],
   "source": [
    "np.sqrt(-1) == np.emath.sqrt(-1)"
   ]
  },
  {
   "cell_type": "code",
   "execution_count": 67,
   "metadata": {
    "ExecuteTime": {
     "end_time": "2019-09-11T03:51:42.336762Z",
     "start_time": "2019-09-11T03:51:42.331535Z"
    }
   },
   "outputs": [
    {
     "name": "stderr",
     "output_type": "stream",
     "text": [
      "/var/folders/kv/wz6tndhs14741rlxsq5pr17r0000gn/T/ipykernel_65993/178168484.py:1: RuntimeWarning: invalid value encountered in sqrt\n",
      "  np.sqrt(-1), np.emath.sqrt(-1)\n"
     ]
    },
    {
     "data": {
      "text/plain": [
       "(np.float64(nan), np.complex128(1j))"
      ]
     },
     "execution_count": 67,
     "metadata": {},
     "output_type": "execute_result"
    }
   ],
   "source": [
    "np.sqrt(-1), np.emath.sqrt(-1)"
   ]
  },
  {
   "cell_type": "markdown",
   "metadata": {},
   "source": [
    "#### 33. 如何获取昨天，今天，明天的日期"
   ]
  },
  {
   "cell_type": "code",
   "execution_count": 68,
   "metadata": {
    "ExecuteTime": {
     "end_time": "2019-09-11T03:51:42.672912Z",
     "start_time": "2019-09-11T03:51:42.668480Z"
    }
   },
   "outputs": [],
   "source": [
    "yesterday = np.datetime64('today', 'D') - np.timedelta64(1, 'D')\n",
    "today     = np.datetime64('today', 'D')\n",
    "tomorrow  = np.datetime64('today', 'D') + np.timedelta64(1, 'D')"
   ]
  },
  {
   "cell_type": "code",
   "execution_count": 69,
   "metadata": {
    "ExecuteTime": {
     "end_time": "2019-09-11T03:51:42.842652Z",
     "start_time": "2019-09-11T03:51:42.837739Z"
    }
   },
   "outputs": [
    {
     "data": {
      "text/plain": [
       "(np.datetime64('2025-01-21'),\n",
       " np.datetime64('2025-01-22'),\n",
       " np.datetime64('2025-01-23'))"
      ]
     },
     "execution_count": 69,
     "metadata": {},
     "output_type": "execute_result"
    }
   ],
   "source": [
    "yesterday, today, tomorrow"
   ]
  },
  {
   "cell_type": "markdown",
   "metadata": {},
   "source": [
    "#### 34. 如何获取2016年7月全部31天的日期"
   ]
  },
  {
   "cell_type": "code",
   "execution_count": 70,
   "metadata": {
    "ExecuteTime": {
     "end_time": "2019-09-11T03:51:43.191384Z",
     "start_time": "2019-09-11T03:51:43.186292Z"
    }
   },
   "outputs": [
    {
     "data": {
      "text/plain": [
       "array(['2016-07-01', '2016-07-02', '2016-07-03', '2016-07-04',\n",
       "       '2016-07-05', '2016-07-06', '2016-07-07', '2016-07-08',\n",
       "       '2016-07-09', '2016-07-10', '2016-07-11', '2016-07-12',\n",
       "       '2016-07-13', '2016-07-14', '2016-07-15', '2016-07-16',\n",
       "       '2016-07-17', '2016-07-18', '2016-07-19', '2016-07-20',\n",
       "       '2016-07-21', '2016-07-22', '2016-07-23', '2016-07-24',\n",
       "       '2016-07-25', '2016-07-26', '2016-07-27', '2016-07-28',\n",
       "       '2016-07-29', '2016-07-30', '2016-07-31'], dtype='datetime64[D]')"
      ]
     },
     "execution_count": 70,
     "metadata": {},
     "output_type": "execute_result"
    }
   ],
   "source": [
    "z = np.arange('2016-07', '2016-08', dtype='datetime64[D]')\n",
    "z"
   ]
  },
  {
   "cell_type": "markdown",
   "metadata": {},
   "source": [
    "#### 35. 如何以替换的方式（in place）计算$((A+B)*(-A/2))$（不通过复制）"
   ]
  },
  {
   "cell_type": "code",
   "execution_count": 71,
   "metadata": {
    "ExecuteTime": {
     "end_time": "2019-09-11T03:51:43.507968Z",
     "start_time": "2019-09-11T03:51:43.498421Z"
    }
   },
   "outputs": [
    {
     "data": {
      "text/plain": [
       "array([-1.5, -1.5, -1.5])"
      ]
     },
     "execution_count": 71,
     "metadata": {},
     "output_type": "execute_result"
    }
   ],
   "source": [
    "A = np.ones(3)*1\n",
    "B = np.ones(3)*2\n",
    "C = np.ones(3)*3\n",
    "np.add(A,B,out=B)\n",
    "np.divide(A,2,out=A)\n",
    "np.negative(A,out=A)\n",
    "np.multiply(A,B,out=A)"
   ]
  },
  {
   "cell_type": "markdown",
   "metadata": {},
   "source": [
    "#### 36. 用5种方法提取随机数组中的整数部分"
   ]
  },
  {
   "cell_type": "code",
   "execution_count": 72,
   "metadata": {
    "ExecuteTime": {
     "end_time": "2019-09-11T03:51:43.817200Z",
     "start_time": "2019-09-11T03:51:43.812193Z"
    }
   },
   "outputs": [
    {
     "data": {
      "text/plain": [
       "array([1.93602825, 2.8773931 , 6.44109292, 2.47136366, 5.77350115,\n",
       "       2.6530118 , 9.15195426, 0.64557189, 6.4697586 , 9.20299706])"
      ]
     },
     "execution_count": 72,
     "metadata": {},
     "output_type": "execute_result"
    }
   ],
   "source": [
    "z = np.random.uniform(0, 10, 10)\n",
    "z"
   ]
  },
  {
   "cell_type": "code",
   "execution_count": 73,
   "metadata": {
    "ExecuteTime": {
     "end_time": "2019-09-11T03:51:43.986352Z",
     "start_time": "2019-09-11T03:51:43.980081Z"
    }
   },
   "outputs": [
    {
     "data": {
      "text/plain": [
       "array([1., 2., 6., 2., 5., 2., 9., 0., 6., 9.])"
      ]
     },
     "execution_count": 73,
     "metadata": {},
     "output_type": "execute_result"
    }
   ],
   "source": [
    "# 1\n",
    "z - z % 1"
   ]
  },
  {
   "cell_type": "code",
   "execution_count": 74,
   "metadata": {
    "ExecuteTime": {
     "end_time": "2019-09-11T03:51:44.149657Z",
     "start_time": "2019-09-11T03:51:44.144761Z"
    }
   },
   "outputs": [
    {
     "data": {
      "text/plain": [
       "array([1., 2., 6., 2., 5., 2., 9., 0., 6., 9.])"
      ]
     },
     "execution_count": 74,
     "metadata": {},
     "output_type": "execute_result"
    }
   ],
   "source": [
    "# 2\n",
    "np.floor(z)"
   ]
  },
  {
   "cell_type": "code",
   "execution_count": 75,
   "metadata": {
    "ExecuteTime": {
     "end_time": "2019-09-11T03:51:44.320126Z",
     "start_time": "2019-09-11T03:51:44.314596Z"
    }
   },
   "outputs": [
    {
     "data": {
      "text/plain": [
       "array([1., 2., 6., 2., 5., 2., 9., 0., 6., 9.])"
      ]
     },
     "execution_count": 75,
     "metadata": {},
     "output_type": "execute_result"
    }
   ],
   "source": [
    "# 3\n",
    "np.ceil(z) - 1"
   ]
  },
  {
   "cell_type": "code",
   "execution_count": 76,
   "metadata": {
    "ExecuteTime": {
     "end_time": "2019-09-11T03:51:44.482478Z",
     "start_time": "2019-09-11T03:51:44.475744Z"
    }
   },
   "outputs": [
    {
     "data": {
      "text/plain": [
       "array([1, 2, 6, 2, 5, 2, 9, 0, 6, 9])"
      ]
     },
     "execution_count": 76,
     "metadata": {},
     "output_type": "execute_result"
    }
   ],
   "source": [
    "# 4\n",
    "z.astype(int)"
   ]
  },
  {
   "cell_type": "code",
   "execution_count": 77,
   "metadata": {
    "ExecuteTime": {
     "end_time": "2019-09-11T03:51:44.624822Z",
     "start_time": "2019-09-11T03:51:44.619832Z"
    }
   },
   "outputs": [
    {
     "data": {
      "text/plain": [
       "array([1., 2., 6., 2., 5., 2., 9., 0., 6., 9.])"
      ]
     },
     "execution_count": 77,
     "metadata": {},
     "output_type": "execute_result"
    }
   ],
   "source": [
    "# 5\n",
    "np.trunc(z)"
   ]
  },
  {
   "cell_type": "markdown",
   "metadata": {},
   "source": [
    "#### 37. 创建一个5x5的矩阵，每行均为0到4"
   ]
  },
  {
   "cell_type": "code",
   "execution_count": 78,
   "metadata": {
    "ExecuteTime": {
     "end_time": "2019-09-11T03:51:44.951720Z",
     "start_time": "2019-09-11T03:51:44.945695Z"
    }
   },
   "outputs": [
    {
     "data": {
      "text/plain": [
       "array([[0., 1., 2., 3., 4.],\n",
       "       [0., 1., 2., 3., 4.],\n",
       "       [0., 1., 2., 3., 4.],\n",
       "       [0., 1., 2., 3., 4.],\n",
       "       [0., 1., 2., 3., 4.]])"
      ]
     },
     "execution_count": 78,
     "metadata": {},
     "output_type": "execute_result"
    }
   ],
   "source": [
    "# 1,答案的方法\n",
    "z = np.zeros((5, 5))\n",
    "z += np.arange(5)\n",
    "z"
   ]
  },
  {
   "cell_type": "code",
   "execution_count": 79,
   "metadata": {
    "ExecuteTime": {
     "end_time": "2019-09-11T03:51:46.283905Z",
     "start_time": "2019-09-11T03:51:46.277012Z"
    }
   },
   "outputs": [
    {
     "data": {
      "text/plain": [
       "array([[0, 1, 2, 3, 4],\n",
       "       [0, 1, 2, 3, 4],\n",
       "       [0, 1, 2, 3, 4],\n",
       "       [0, 1, 2, 3, 4],\n",
       "       [0, 1, 2, 3, 4]])"
      ]
     },
     "execution_count": 79,
     "metadata": {},
     "output_type": "execute_result"
    }
   ],
   "source": [
    "# 2,利用tile\n",
    "z = np.tile(np.arange(5), (5, 1))\n",
    "z"
   ]
  },
  {
   "cell_type": "markdown",
   "metadata": {},
   "source": [
    "#### 38. 现有一个可以生成10个整数的生成器函数，利用其建立一个数组"
   ]
  },
  {
   "cell_type": "code",
   "execution_count": 80,
   "metadata": {
    "ExecuteTime": {
     "end_time": "2019-09-11T03:51:46.640162Z",
     "start_time": "2019-09-11T03:51:46.633687Z"
    }
   },
   "outputs": [
    {
     "data": {
      "text/plain": [
       "array([0., 1., 2., 3., 4., 5., 6., 7., 8., 9.])"
      ]
     },
     "execution_count": 80,
     "metadata": {},
     "output_type": "execute_result"
    }
   ],
   "source": [
    "# 1, 答案的方法\n",
    "def gen():\n",
    "    for i in range(10):\n",
    "        yield i\n",
    "        \n",
    "z = np.fromiter(gen(), dtype=float, count=-1)\n",
    "z"
   ]
  },
  {
   "cell_type": "code",
   "execution_count": 81,
   "metadata": {
    "ExecuteTime": {
     "end_time": "2019-09-11T03:51:46.812776Z",
     "start_time": "2019-09-11T03:51:46.806194Z"
    }
   },
   "outputs": [
    {
     "data": {
      "text/plain": [
       "array([0, 1, 2, 3, 4, 5, 6, 7, 8, 9])"
      ]
     },
     "execution_count": 81,
     "metadata": {},
     "output_type": "execute_result"
    }
   ],
   "source": [
    "# 2, 列表解析\n",
    "z = np.array([i for i in gen()])\n",
    "z"
   ]
  },
  {
   "cell_type": "markdown",
   "metadata": {},
   "source": [
    "#### 39. 创建一个长度为10，范围从0到1的向量（不包括0，1）"
   ]
  },
  {
   "cell_type": "code",
   "execution_count": 82,
   "metadata": {
    "ExecuteTime": {
     "end_time": "2019-09-11T03:51:47.154888Z",
     "start_time": "2019-09-11T03:51:47.146592Z"
    }
   },
   "outputs": [
    {
     "data": {
      "text/plain": [
       "array([0.09090909, 0.18181818, 0.27272727, 0.36363636, 0.45454545,\n",
       "       0.54545455, 0.63636364, 0.72727273, 0.81818182, 0.90909091])"
      ]
     },
     "execution_count": 82,
     "metadata": {},
     "output_type": "execute_result"
    }
   ],
   "source": [
    "z = np.linspace(0, 1, 11, endpoint=False)[1:]\n",
    "z"
   ]
  },
  {
   "cell_type": "markdown",
   "metadata": {},
   "source": [
    "#### 40. 创建一个长度为10的随机数组并排序"
   ]
  },
  {
   "cell_type": "code",
   "execution_count": 83,
   "metadata": {
    "ExecuteTime": {
     "end_time": "2019-09-11T03:51:47.490900Z",
     "start_time": "2019-09-11T03:51:47.484981Z"
    }
   },
   "outputs": [
    {
     "data": {
      "text/plain": [
       "array([0.83121914, 0.74480265, 0.40312866, 0.73913068, 0.18448018,\n",
       "       0.25015434, 0.5968375 , 0.8719213 , 0.41113176, 0.55479387])"
      ]
     },
     "execution_count": 83,
     "metadata": {},
     "output_type": "execute_result"
    }
   ],
   "source": [
    "z = np.random.random(10)\n",
    "z"
   ]
  },
  {
   "cell_type": "code",
   "execution_count": 84,
   "metadata": {
    "ExecuteTime": {
     "end_time": "2019-09-11T03:51:47.669791Z",
     "start_time": "2019-09-11T03:51:47.664607Z"
    }
   },
   "outputs": [
    {
     "data": {
      "text/plain": [
       "array([0.18448018, 0.25015434, 0.40312866, 0.41113176, 0.55479387,\n",
       "       0.5968375 , 0.73913068, 0.74480265, 0.83121914, 0.8719213 ])"
      ]
     },
     "execution_count": 84,
     "metadata": {},
     "output_type": "execute_result"
    }
   ],
   "source": [
    "z.sort()\n",
    "z"
   ]
  },
  {
   "cell_type": "markdown",
   "metadata": {},
   "source": [
    "#### 41. 对于长度较小的数组，如何更高效地求和（相对`np.sum`）"
   ]
  },
  {
   "cell_type": "code",
   "execution_count": 85,
   "metadata": {
    "ExecuteTime": {
     "end_time": "2019-09-11T03:51:48.026410Z",
     "start_time": "2019-09-11T03:51:48.018589Z"
    }
   },
   "outputs": [
    {
     "data": {
      "text/plain": [
       "np.int64(45)"
      ]
     },
     "execution_count": 85,
     "metadata": {},
     "output_type": "execute_result"
    }
   ],
   "source": [
    "z = np.arange(10)\n",
    "np.add.reduce(z)"
   ]
  },
  {
   "cell_type": "code",
   "execution_count": 86,
   "metadata": {
    "ExecuteTime": {
     "end_time": "2019-09-11T03:52:00.877420Z",
     "start_time": "2019-09-11T03:51:48.181096Z"
    }
   },
   "outputs": [
    {
     "name": "stdout",
     "output_type": "stream",
     "text": [
      "530 ns ± 3.66 ns per loop (mean ± std. dev. of 7 runs, 1,000,000 loops each)\n"
     ]
    }
   ],
   "source": [
    "%timeit np.add.reduce(z)"
   ]
  },
  {
   "cell_type": "code",
   "execution_count": 87,
   "metadata": {
    "ExecuteTime": {
     "end_time": "2019-09-11T03:52:04.156727Z",
     "start_time": "2019-09-11T03:52:00.880063Z"
    }
   },
   "outputs": [
    {
     "name": "stdout",
     "output_type": "stream",
     "text": [
      "1.13 μs ± 24.4 ns per loop (mean ± std. dev. of 7 runs, 1,000,000 loops each)\n"
     ]
    }
   ],
   "source": [
    "%timeit np.sum(z)"
   ]
  },
  {
   "cell_type": "markdown",
   "metadata": {},
   "source": [
    "可以看到`np.add.reduce`此时差不多快上一倍"
   ]
  },
  {
   "cell_type": "markdown",
   "metadata": {},
   "source": [
    "#### 42. 检查两个数组A， B是否相等"
   ]
  },
  {
   "cell_type": "code",
   "execution_count": 88,
   "metadata": {
    "ExecuteTime": {
     "end_time": "2019-09-11T03:52:04.166995Z",
     "start_time": "2019-09-11T03:52:04.160998Z"
    }
   },
   "outputs": [],
   "source": [
    "A = np.random.randint(0,2,5)\n",
    "B = np.random.randint(0,2,5)"
   ]
  },
  {
   "cell_type": "code",
   "execution_count": 89,
   "metadata": {
    "ExecuteTime": {
     "end_time": "2019-09-11T03:52:04.235821Z",
     "start_time": "2019-09-11T03:52:04.170559Z"
    }
   },
   "outputs": [
    {
     "data": {
      "text/plain": [
       "False"
      ]
     },
     "execution_count": 89,
     "metadata": {},
     "output_type": "execute_result"
    }
   ],
   "source": [
    "# 1， 已知A，B的shape相等\n",
    "# 存在容错，适用于浮点数的比较\n",
    "np.allclose(A, B)"
   ]
  },
  {
   "cell_type": "code",
   "execution_count": 90,
   "metadata": {
    "ExecuteTime": {
     "end_time": "2019-09-11T03:52:04.335988Z",
     "start_time": "2019-09-11T03:52:04.239888Z"
    }
   },
   "outputs": [
    {
     "data": {
      "text/plain": [
       "False"
      ]
     },
     "execution_count": 90,
     "metadata": {},
     "output_type": "execute_result"
    }
   ],
   "source": [
    "# 2. 同时检查shape与数值\n",
    "# 要求数值完全相等\n",
    "np.array_equal(A, B)"
   ]
  },
  {
   "cell_type": "markdown",
   "metadata": {},
   "source": [
    "#### 43. 限制数组为不可变数组（read only）"
   ]
  },
  {
   "cell_type": "code",
   "execution_count": 91,
   "metadata": {
    "ExecuteTime": {
     "end_time": "2019-09-11T03:52:04.501154Z",
     "start_time": "2019-09-11T03:52:04.339002Z"
    }
   },
   "outputs": [
    {
     "data": {
      "text/plain": [
       "  C_CONTIGUOUS : True\n",
       "  F_CONTIGUOUS : True\n",
       "  OWNDATA : True\n",
       "  WRITEABLE : True\n",
       "  ALIGNED : True\n",
       "  WRITEBACKIFCOPY : False"
      ]
     },
     "execution_count": 91,
     "metadata": {},
     "output_type": "execute_result"
    }
   ],
   "source": [
    "z = np.zeros(10)\n",
    "z.flags"
   ]
  },
  {
   "cell_type": "code",
   "execution_count": 92,
   "metadata": {
    "ExecuteTime": {
     "end_time": "2019-09-11T03:52:04.600725Z",
     "start_time": "2019-09-11T03:52:04.503265Z"
    }
   },
   "outputs": [
    {
     "data": {
      "text/plain": [
       "  C_CONTIGUOUS : True\n",
       "  F_CONTIGUOUS : True\n",
       "  OWNDATA : True\n",
       "  WRITEABLE : False\n",
       "  ALIGNED : True\n",
       "  WRITEBACKIFCOPY : False"
      ]
     },
     "execution_count": 92,
     "metadata": {},
     "output_type": "execute_result"
    }
   ],
   "source": [
    "z.flags.writeable = False\n",
    "z.flags"
   ]
  },
  {
   "cell_type": "code",
   "execution_count": 93,
   "metadata": {
    "ExecuteTime": {
     "end_time": "2019-09-11T03:52:04.696002Z",
     "start_time": "2019-09-11T03:52:04.603923Z"
    }
   },
   "outputs": [
    {
     "name": "stdout",
     "output_type": "stream",
     "text": [
      "assignment destination is read-only\n"
     ]
    }
   ],
   "source": [
    "try:\n",
    "    z[0] = 1\n",
    "except Exception as e:\n",
    "    print(e)"
   ]
  },
  {
   "cell_type": "markdown",
   "metadata": {},
   "source": [
    "#### 44. 给定10x2矩阵代表平面座标系中座标，将其转化为极座标系座标"
   ]
  },
  {
   "cell_type": "code",
   "execution_count": 94,
   "metadata": {
    "ExecuteTime": {
     "end_time": "2019-09-11T03:52:22.824274Z",
     "start_time": "2019-09-11T03:52:22.816167Z"
    }
   },
   "outputs": [
    {
     "data": {
      "text/plain": [
       "(array([0.2785318 , 1.1770019 , 0.39867197, 0.84705334, 0.69120735,\n",
       "        0.78452499, 0.89866317, 0.57073404, 0.83165007, 0.60686386]),\n",
       " array([0.80120206, 0.69065529, 1.28164529, 0.08694977, 1.05989645,\n",
       "        0.04313498, 0.85720213, 0.05954291, 0.83241789, 1.46995498]))"
      ]
     },
     "execution_count": 94,
     "metadata": {},
     "output_type": "execute_result"
    }
   ],
   "source": [
    "z = np.random.random((10, 2))\n",
    "x, y = z[:, 0], z[:, 1]\n",
    "r = np.sqrt(x**2 + y**2)\n",
    "theta = np.arctan2(y, x)\n",
    "r, theta"
   ]
  },
  {
   "cell_type": "markdown",
   "metadata": {},
   "source": [
    "#### 45. 创建一个长度为10的随机向量，并将其中最大的数改为0"
   ]
  },
  {
   "cell_type": "code",
   "execution_count": 95,
   "metadata": {
    "ExecuteTime": {
     "end_time": "2019-09-11T03:52:23.674738Z",
     "start_time": "2019-09-11T03:52:23.669372Z"
    }
   },
   "outputs": [
    {
     "data": {
      "text/plain": [
       "array([0.79302487, 0.67481111, 0.84146304, 0.26383601, 0.84936625,\n",
       "       0.85508712, 0.38488099, 0.89765296, 0.65572237, 0.45909346])"
      ]
     },
     "execution_count": 95,
     "metadata": {},
     "output_type": "execute_result"
    }
   ],
   "source": [
    "z = np.random.random(10)\n",
    "z"
   ]
  },
  {
   "cell_type": "code",
   "execution_count": 96,
   "metadata": {
    "ExecuteTime": {
     "end_time": "2019-09-11T03:52:23.883407Z",
     "start_time": "2019-09-11T03:52:23.877332Z"
    }
   },
   "outputs": [
    {
     "data": {
      "text/plain": [
       "array([0.79302487, 0.67481111, 0.84146304, 0.26383601, 0.84936625,\n",
       "       0.85508712, 0.38488099, 0.        , 0.65572237, 0.45909346])"
      ]
     },
     "execution_count": 96,
     "metadata": {},
     "output_type": "execute_result"
    }
   ],
   "source": [
    "z[z.argmax()] = 0\n",
    "z"
   ]
  },
  {
   "cell_type": "markdown",
   "metadata": {},
   "source": [
    "#### 46. 创建一个结构化的数组，其元素为x轴，y轴的座标，并覆盖[0,1]x[0, 1]"
   ]
  },
  {
   "cell_type": "code",
   "execution_count": 97,
   "metadata": {
    "ExecuteTime": {
     "end_time": "2019-09-11T03:52:24.316270Z",
     "start_time": "2019-09-11T03:52:24.307396Z"
    }
   },
   "outputs": [
    {
     "data": {
      "text/plain": [
       "(array([[0.  , 0.25, 0.5 , 0.75, 1.  ],\n",
       "        [0.  , 0.25, 0.5 , 0.75, 1.  ],\n",
       "        [0.  , 0.25, 0.5 , 0.75, 1.  ],\n",
       "        [0.  , 0.25, 0.5 , 0.75, 1.  ],\n",
       "        [0.  , 0.25, 0.5 , 0.75, 1.  ]]),\n",
       " array([[0.  , 0.  , 0.  , 0.  , 0.  ],\n",
       "        [0.25, 0.25, 0.25, 0.25, 0.25],\n",
       "        [0.5 , 0.5 , 0.5 , 0.5 , 0.5 ],\n",
       "        [0.75, 0.75, 0.75, 0.75, 0.75],\n",
       "        [1.  , 1.  , 1.  , 1.  , 1.  ]]))"
      ]
     },
     "execution_count": 97,
     "metadata": {},
     "output_type": "execute_result"
    }
   ],
   "source": [
    "z = np.zeros((5, 5), [('x', float), ('y', float)])\n",
    "z = np.meshgrid(np.linspace(0, 1, 5),\n",
    "                np.linspace(0, 1, 5))\n",
    "z"
   ]
  },
  {
   "cell_type": "markdown",
   "metadata": {},
   "source": [
    "#### 47. 给定两个数组X，Y， 计算其柯西矩阵C(Cauchy Matrix)并求其行列式\n",
    "$$C_{ij} = \\frac{1}{x_i-y_j}$$"
   ]
  },
  {
   "cell_type": "code",
   "execution_count": 98,
   "metadata": {
    "ExecuteTime": {
     "end_time": "2019-09-11T03:52:24.716992Z",
     "start_time": "2019-09-11T03:52:24.707099Z"
    }
   },
   "outputs": [
    {
     "data": {
      "text/plain": [
       "array([[-2.        , -0.66666667, -0.4       , -0.28571429, -0.22222222,\n",
       "        -0.18181818, -0.15384615, -0.13333333],\n",
       "       [ 2.        , -2.        , -0.66666667, -0.4       , -0.28571429,\n",
       "        -0.22222222, -0.18181818, -0.15384615],\n",
       "       [ 0.66666667,  2.        , -2.        , -0.66666667, -0.4       ,\n",
       "        -0.28571429, -0.22222222, -0.18181818],\n",
       "       [ 0.4       ,  0.66666667,  2.        , -2.        , -0.66666667,\n",
       "        -0.4       , -0.28571429, -0.22222222],\n",
       "       [ 0.28571429,  0.4       ,  0.66666667,  2.        , -2.        ,\n",
       "        -0.66666667, -0.4       , -0.28571429],\n",
       "       [ 0.22222222,  0.28571429,  0.4       ,  0.66666667,  2.        ,\n",
       "        -2.        , -0.66666667, -0.4       ],\n",
       "       [ 0.18181818,  0.22222222,  0.28571429,  0.4       ,  0.66666667,\n",
       "         2.        , -2.        , -0.66666667],\n",
       "       [ 0.15384615,  0.18181818,  0.22222222,  0.28571429,  0.4       ,\n",
       "         0.66666667,  2.        , -2.        ]])"
      ]
     },
     "execution_count": 98,
     "metadata": {},
     "output_type": "execute_result"
    }
   ],
   "source": [
    "x = np.arange(8)\n",
    "y = x + 0.5\n",
    "C = 1 / np.subtract.outer(x, y)\n",
    "C"
   ]
  },
  {
   "cell_type": "code",
   "execution_count": 99,
   "metadata": {
    "ExecuteTime": {
     "end_time": "2019-09-11T03:52:24.997212Z",
     "start_time": "2019-09-11T03:52:24.910147Z"
    }
   },
   "outputs": [
    {
     "data": {
      "text/plain": [
       "np.float64(3638.1636371179666)"
      ]
     },
     "execution_count": 99,
     "metadata": {},
     "output_type": "execute_result"
    }
   ],
   "source": [
    "np.linalg.det(C)"
   ]
  },
  {
   "cell_type": "markdown",
   "metadata": {},
   "source": [
    "其实这里`np.subtract.outer`就等于进行了broadcast,我们也可以像下面这样写。"
   ]
  },
  {
   "cell_type": "code",
   "execution_count": 100,
   "metadata": {
    "ExecuteTime": {
     "end_time": "2019-09-11T03:52:25.318932Z",
     "start_time": "2019-09-11T03:52:25.311594Z"
    }
   },
   "outputs": [
    {
     "data": {
      "text/plain": [
       "array([[-2.        , -0.66666667, -0.4       , -0.28571429, -0.22222222,\n",
       "        -0.18181818, -0.15384615, -0.13333333],\n",
       "       [ 2.        , -2.        , -0.66666667, -0.4       , -0.28571429,\n",
       "        -0.22222222, -0.18181818, -0.15384615],\n",
       "       [ 0.66666667,  2.        , -2.        , -0.66666667, -0.4       ,\n",
       "        -0.28571429, -0.22222222, -0.18181818],\n",
       "       [ 0.4       ,  0.66666667,  2.        , -2.        , -0.66666667,\n",
       "        -0.4       , -0.28571429, -0.22222222],\n",
       "       [ 0.28571429,  0.4       ,  0.66666667,  2.        , -2.        ,\n",
       "        -0.66666667, -0.4       , -0.28571429],\n",
       "       [ 0.22222222,  0.28571429,  0.4       ,  0.66666667,  2.        ,\n",
       "        -2.        , -0.66666667, -0.4       ],\n",
       "       [ 0.18181818,  0.22222222,  0.28571429,  0.4       ,  0.66666667,\n",
       "         2.        , -2.        , -0.66666667],\n",
       "       [ 0.15384615,  0.18181818,  0.22222222,  0.28571429,  0.4       ,\n",
       "         0.66666667,  2.        , -2.        ]])"
      ]
     },
     "execution_count": 100,
     "metadata": {},
     "output_type": "execute_result"
    }
   ],
   "source": [
    "C_test = 1 / (x.reshape(8, 1)- y.reshape(1, 8))\n",
    "C_test"
   ]
  },
  {
   "cell_type": "code",
   "execution_count": 101,
   "metadata": {
    "ExecuteTime": {
     "end_time": "2019-09-11T03:52:25.528199Z",
     "start_time": "2019-09-11T03:52:25.523627Z"
    }
   },
   "outputs": [
    {
     "data": {
      "text/plain": [
       "np.float64(3638.1636371179666)"
      ]
     },
     "execution_count": 101,
     "metadata": {},
     "output_type": "execute_result"
    }
   ],
   "source": [
    "np.linalg.det(C_test)"
   ]
  },
  {
   "cell_type": "code",
   "execution_count": 102,
   "metadata": {
    "ExecuteTime": {
     "end_time": "2019-09-11T03:52:25.730275Z",
     "start_time": "2019-09-11T03:52:25.724044Z"
    }
   },
   "outputs": [
    {
     "data": {
      "text/plain": [
       "True"
      ]
     },
     "execution_count": 102,
     "metadata": {},
     "output_type": "execute_result"
    }
   ],
   "source": [
    "# 测试两种方法返回的C是否相同\n",
    "np.array_equal(C, C_test)"
   ]
  },
  {
   "cell_type": "markdown",
   "metadata": {},
   "source": [
    "#### 48. 打印Numpy所有标量类型(scalar type)可表示的最值"
   ]
  },
  {
   "cell_type": "code",
   "execution_count": 103,
   "metadata": {
    "ExecuteTime": {
     "end_time": "2019-09-11T03:52:26.143308Z",
     "start_time": "2019-09-11T03:52:26.136136Z"
    }
   },
   "outputs": [
    {
     "name": "stdout",
     "output_type": "stream",
     "text": [
      "<class 'numpy.int8'>: min=-128, max=127\n",
      "<class 'numpy.int16'>: min=-32768, max=32767\n",
      "<class 'numpy.int32'>: min=-2147483648, max=2147483647\n",
      "<class 'numpy.int64'>: min=-9223372036854775808, max=9223372036854775807\n",
      "<class 'numpy.float16'>: min=-65504.0, max=65504.0\n",
      "<class 'numpy.float32'>: min=-3.4028234663852886e+38, max=3.4028234663852886e+38\n",
      "<class 'numpy.float64'>: min=-1.7976931348623157e+308, max=1.7976931348623157e+308\n"
     ]
    }
   ],
   "source": [
    "for dtype in [np.int8, np.int16, np.int32, np.int64]:\n",
    "    info = np.iinfo(dtype)\n",
    "    print(f\"{dtype}: min={info.min}, max={info.max}\")\n",
    "for dtype in [np.float16, np.float32, np.float64,]:\n",
    "    info = np.finfo(dtype)\n",
    "    print(f\"{dtype}: min={info.min}, max={info.max}\")"
   ]
  },
  {
   "cell_type": "markdown",
   "metadata": {},
   "source": [
    "#### 49. 打印数组所有元素（不省略）"
   ]
  },
  {
   "cell_type": "code",
   "execution_count": 104,
   "metadata": {
    "ExecuteTime": {
     "end_time": "2019-09-11T03:52:26.542789Z",
     "start_time": "2019-09-11T03:52:26.536988Z"
    }
   },
   "outputs": [
    {
     "name": "stdout",
     "output_type": "stream",
     "text": [
      "[[1. 1. 1. 1. 1. 1. 1. 1. 1. 1.]\n",
      " [1. 1. 1. 1. 1. 1. 1. 1. 1. 1.]\n",
      " [1. 1. 1. 1. 1. 1. 1. 1. 1. 1.]\n",
      " [1. 1. 1. 1. 1. 1. 1. 1. 1. 1.]\n",
      " [1. 1. 1. 1. 1. 1. 1. 1. 1. 1.]\n",
      " [1. 1. 1. 1. 1. 1. 1. 1. 1. 1.]\n",
      " [1. 1. 1. 1. 1. 1. 1. 1. 1. 1.]\n",
      " [1. 1. 1. 1. 1. 1. 1. 1. 1. 1.]\n",
      " [1. 1. 1. 1. 1. 1. 1. 1. 1. 1.]\n",
      " [1. 1. 1. 1. 1. 1. 1. 1. 1. 1.]]\n"
     ]
    }
   ],
   "source": [
    "with np.printoptions(threshold=np.inf):\n",
    "    z = np.ones((10, 10))\n",
    "    print(z)"
   ]
  },
  {
   "cell_type": "markdown",
   "metadata": {},
   "source": [
    "#### 50. 给定一个数，在数组中找出距离其最近的数"
   ]
  },
  {
   "cell_type": "code",
   "execution_count": 105,
   "metadata": {
    "ExecuteTime": {
     "end_time": "2019-09-11T03:52:26.995597Z",
     "start_time": "2019-09-11T03:52:26.990148Z"
    }
   },
   "outputs": [
    {
     "data": {
      "text/plain": [
       "array([0.57930229, 0.77119744, 0.70015103, 0.79605487, 0.1148226 ,\n",
       "       0.00895376, 0.27384648, 0.54059032, 0.33281596, 0.84731103])"
      ]
     },
     "execution_count": 105,
     "metadata": {},
     "output_type": "execute_result"
    }
   ],
   "source": [
    "# 给定的数组\n",
    "z = np.random.uniform(0, 1, 10)\n",
    "z"
   ]
  },
  {
   "cell_type": "code",
   "execution_count": 106,
   "metadata": {
    "ExecuteTime": {
     "end_time": "2019-09-11T03:52:27.706837Z",
     "start_time": "2019-09-11T03:52:27.701593Z"
    }
   },
   "outputs": [
    {
     "data": {
      "text/plain": [
       "np.float64(0.5405903150117539)"
      ]
     },
     "execution_count": 106,
     "metadata": {},
     "output_type": "execute_result"
    }
   ],
   "source": [
    "# 给定的数\n",
    "x = 0.5\n",
    "# 定位距离最近数的位置\n",
    "index = np.abs(z - x).argmin()\n",
    "# 找到该数字\n",
    "z[index]"
   ]
  },
  {
   "cell_type": "markdown",
   "metadata": {},
   "source": [
    "#### 51. 创建一个结构化的数组，其元素为一个座标(x,y)和一个颜色参数(r,g,b)\n",
    "和46题类似。\n",
    ">另外，这可以是一个像素点的表示方式"
   ]
  },
  {
   "cell_type": "code",
   "execution_count": 107,
   "metadata": {
    "ExecuteTime": {
     "end_time": "2019-09-11T03:52:28.150008Z",
     "start_time": "2019-09-11T03:52:28.136122Z"
    }
   },
   "outputs": [
    {
     "data": {
      "text/plain": [
       "array([(([0.], [0.]), ([0.], [0.], [0.])),\n",
       "       (([0.], [0.]), ([0.], [0.], [0.])),\n",
       "       (([0.], [0.]), ([0.], [0.], [0.])),\n",
       "       (([0.], [0.]), ([0.], [0.], [0.])),\n",
       "       (([0.], [0.]), ([0.], [0.], [0.])),\n",
       "       (([0.], [0.]), ([0.], [0.], [0.])),\n",
       "       (([0.], [0.]), ([0.], [0.], [0.])),\n",
       "       (([0.], [0.]), ([0.], [0.], [0.])),\n",
       "       (([0.], [0.]), ([0.], [0.], [0.])),\n",
       "       (([0.], [0.]), ([0.], [0.], [0.]))],\n",
       "      dtype=[('position', [('x', '<f8', (1,)), ('y', '<f8', (1,))]), ('color', [('r', '<f8', (1,)), ('g', '<f8', (1,)), ('b', '<f8', (1,))])])"
      ]
     },
     "execution_count": 107,
     "metadata": {},
     "output_type": "execute_result"
    }
   ],
   "source": [
    "z = np.zeros(10, [('position', [('x', float, 1),\n",
    "                               ('y', float, 1)]),\n",
    "                 ('color', [('r', float, 1),\n",
    "                            ('g', float, 1),\n",
    "                            ('b', float, 1)])\n",
    "                 ]\n",
    "            )\n",
    "z"
   ]
  },
  {
   "cell_type": "markdown",
   "metadata": {},
   "source": [
    "#### 52. 考虑一个形状为（10， 2）的随机向量，若其代表二维平面中的点，求各点之间的距离"
   ]
  },
  {
   "cell_type": "code",
   "execution_count": 108,
   "metadata": {
    "ExecuteTime": {
     "end_time": "2019-09-11T03:52:28.925915Z",
     "start_time": "2019-09-11T03:52:28.914012Z"
    }
   },
   "outputs": [
    {
     "data": {
      "text/plain": [
       "array([[0.        , 0.57858864, 0.33228792, 0.60227921, 0.49296208,\n",
       "        0.63850579, 0.68654817, 0.77078953, 0.61712712, 0.31478649],\n",
       "       [0.57858864, 0.        , 0.51351986, 0.33544895, 0.09211323,\n",
       "        0.27960251, 0.23034989, 0.38496146, 0.09487748, 0.45727473],\n",
       "       [0.33228792, 0.51351986, 0.        , 0.71162982, 0.4663402 ,\n",
       "        0.41743636, 0.71120546, 0.84340993, 0.49740385, 0.0586886 ],\n",
       "       [0.60227921, 0.33544895, 0.71162982, 0.        , 0.29637892,\n",
       "        0.61081658, 0.18138238, 0.17510932, 0.42974966, 0.65396063],\n",
       "       [0.49296208, 0.09211323, 0.4663402 , 0.29637892, 0.        ,\n",
       "        0.3215453 , 0.24565279, 0.38725461, 0.16921256, 0.40806413],\n",
       "       [0.63850579, 0.27960251, 0.41743636, 0.61081658, 0.3215453 ,\n",
       "        0.        , 0.5041862 , 0.66006087, 0.19374782, 0.38115478],\n",
       "       [0.68654817, 0.23034989, 0.71120546, 0.18138238, 0.24565279,\n",
       "        0.5041862 , 0.        , 0.15587473, 0.31065601, 0.65270544],\n",
       "       [0.77078953, 0.38496146, 0.84340993, 0.17510932, 0.38725461,\n",
       "        0.66006087, 0.15587473, 0.        , 0.46650022, 0.78474945],\n",
       "       [0.61712712, 0.09487748, 0.49740385, 0.42974966, 0.16921256,\n",
       "        0.19374782, 0.31065601, 0.46650022, 0.        , 0.44552154],\n",
       "       [0.31478649, 0.45727473, 0.0586886 , 0.65396063, 0.40806413,\n",
       "        0.38115478, 0.65270544, 0.78474945, 0.44552154, 0.        ]])"
      ]
     },
     "execution_count": 108,
     "metadata": {},
     "output_type": "execute_result"
    }
   ],
   "source": [
    "z = np.random.random((10, 2))\n",
    "x, y = np.atleast_2d(z[:, 0], z[:, 1])\n",
    "d = np.sqrt((x - x.T)**2 + (y - y.T)**2)\n",
    "d"
   ]
  },
  {
   "cell_type": "markdown",
   "metadata": {},
   "source": [
    "这里使用`np.atleast_2d`使得我们得到的`x`， `y`直接就是2维的数组，方便了我们后面直接使用`broadcasting`.我们也可以采用下面的方法代替这行，但是不够简洁：\n",
    "```python\n",
    "x = z[:, 0].reshape(10, 1)\n",
    "y = z[:, 1].reshape(1, 10)\n",
    "```\n",
    "\n",
    "此外我们也可以使用`scipy`内置的函数，其效率要高一些。"
   ]
  },
  {
   "cell_type": "code",
   "execution_count": 109,
   "metadata": {
    "ExecuteTime": {
     "end_time": "2019-09-11T03:52:30.352754Z",
     "start_time": "2019-09-11T03:52:29.400534Z"
    }
   },
   "outputs": [
    {
     "data": {
      "text/plain": [
       "array([[0.        , 0.57858864, 0.33228792, 0.60227921, 0.49296208,\n",
       "        0.63850579, 0.68654817, 0.77078953, 0.61712712, 0.31478649],\n",
       "       [0.57858864, 0.        , 0.51351986, 0.33544895, 0.09211323,\n",
       "        0.27960251, 0.23034989, 0.38496146, 0.09487748, 0.45727473],\n",
       "       [0.33228792, 0.51351986, 0.        , 0.71162982, 0.4663402 ,\n",
       "        0.41743636, 0.71120546, 0.84340993, 0.49740385, 0.0586886 ],\n",
       "       [0.60227921, 0.33544895, 0.71162982, 0.        , 0.29637892,\n",
       "        0.61081658, 0.18138238, 0.17510932, 0.42974966, 0.65396063],\n",
       "       [0.49296208, 0.09211323, 0.4663402 , 0.29637892, 0.        ,\n",
       "        0.3215453 , 0.24565279, 0.38725461, 0.16921256, 0.40806413],\n",
       "       [0.63850579, 0.27960251, 0.41743636, 0.61081658, 0.3215453 ,\n",
       "        0.        , 0.5041862 , 0.66006087, 0.19374782, 0.38115478],\n",
       "       [0.68654817, 0.23034989, 0.71120546, 0.18138238, 0.24565279,\n",
       "        0.5041862 , 0.        , 0.15587473, 0.31065601, 0.65270544],\n",
       "       [0.77078953, 0.38496146, 0.84340993, 0.17510932, 0.38725461,\n",
       "        0.66006087, 0.15587473, 0.        , 0.46650022, 0.78474945],\n",
       "       [0.61712712, 0.09487748, 0.49740385, 0.42974966, 0.16921256,\n",
       "        0.19374782, 0.31065601, 0.46650022, 0.        , 0.44552154],\n",
       "       [0.31478649, 0.45727473, 0.0586886 , 0.65396063, 0.40806413,\n",
       "        0.38115478, 0.65270544, 0.78474945, 0.44552154, 0.        ]])"
      ]
     },
     "execution_count": 109,
     "metadata": {},
     "output_type": "execute_result"
    }
   ],
   "source": [
    "import scipy\n",
    "import scipy.spatial\n",
    "\n",
    "d = scipy.spatial.distance.cdist(z, z)\n",
    "d"
   ]
  },
  {
   "cell_type": "markdown",
   "metadata": {},
   "source": [
    "#### 53. 将一个32位的浮点数数组，（不使用额外内存）转化为32为的整数数组"
   ]
  },
  {
   "cell_type": "code",
   "execution_count": 110,
   "metadata": {
    "ExecuteTime": {
     "end_time": "2019-09-11T03:52:30.364185Z",
     "start_time": "2019-09-11T03:52:30.356545Z"
    }
   },
   "outputs": [
    {
     "data": {
      "text/plain": [
       "array([0., 0., 0., 0., 0., 0., 0., 0., 0., 0.], dtype=float32)"
      ]
     },
     "execution_count": 110,
     "metadata": {},
     "output_type": "execute_result"
    }
   ],
   "source": [
    "z = np.zeros(10, dtype=np.float32)\n",
    "z"
   ]
  },
  {
   "cell_type": "code",
   "execution_count": 111,
   "metadata": {
    "ExecuteTime": {
     "end_time": "2019-09-11T03:52:30.625589Z",
     "start_time": "2019-09-11T03:52:30.619815Z"
    }
   },
   "outputs": [
    {
     "data": {
      "text/plain": [
       "array([0, 0, 0, 0, 0, 0, 0, 0, 0, 0], dtype=int32)"
      ]
     },
     "execution_count": 111,
     "metadata": {},
     "output_type": "execute_result"
    }
   ],
   "source": [
    "z = z.astype(np.int32, copy=False)\n",
    "z"
   ]
  },
  {
   "cell_type": "markdown",
   "metadata": {},
   "source": [
    "#### 54. 如何读取下面的文件\n",
    "```\n",
    "1, 2, 3, 4, 5\n",
    "6,  ,  , 7, 8\n",
    " ,  , 9,10,11\n",
    "```"
   ]
  },
  {
   "cell_type": "code",
   "execution_count": 112,
   "metadata": {
    "ExecuteTime": {
     "end_time": "2019-09-11T03:52:31.112303Z",
     "start_time": "2019-09-11T03:52:31.106075Z"
    }
   },
   "outputs": [
    {
     "data": {
      "text/plain": [
       "array([[ 1.,  2.,  3.,  4.,  5.],\n",
       "       [ 6., nan, nan,  7.,  8.],\n",
       "       [nan, nan,  9., 10., 11.]])"
      ]
     },
     "execution_count": 112,
     "metadata": {},
     "output_type": "execute_result"
    }
   ],
   "source": [
    "from io import StringIO\n",
    "# “假”的文件\n",
    "s = StringIO(\"\"\"1, 2, 3, 4, 5\\n\n",
    "                6,  ,  , 7, 8\\n\n",
    "                 ,  , 9,10,11\\n\"\"\")\n",
    "z = np.genfromtxt(s, delimiter=\",\", missing_values=' ')\n",
    "z"
   ]
  },
  {
   "cell_type": "markdown",
   "metadata": {},
   "source": [
    "#### 55. Python内置有`enumerate`,Numpy中与之对应的是？"
   ]
  },
  {
   "cell_type": "code",
   "execution_count": 113,
   "metadata": {
    "ExecuteTime": {
     "end_time": "2019-09-11T03:52:31.612857Z",
     "start_time": "2019-09-11T03:52:31.605578Z"
    }
   },
   "outputs": [
    {
     "name": "stdout",
     "output_type": "stream",
     "text": [
      "(0, 0) 0\n",
      "(0, 1) 1\n",
      "(0, 2) 2\n",
      "(1, 0) 3\n",
      "(1, 1) 4\n",
      "(1, 2) 5\n",
      "(2, 0) 6\n",
      "(2, 1) 7\n",
      "(2, 2) 8\n"
     ]
    }
   ],
   "source": [
    "Z = np.arange(9).reshape(3,3)\n",
    "for index, value in np.ndenumerate(Z):\n",
    "    print(index, value)"
   ]
  },
  {
   "cell_type": "code",
   "execution_count": 114,
   "metadata": {
    "ExecuteTime": {
     "end_time": "2019-09-11T03:52:31.831383Z",
     "start_time": "2019-09-11T03:52:31.822861Z"
    }
   },
   "outputs": [
    {
     "name": "stdout",
     "output_type": "stream",
     "text": [
      "(0, 0) 0\n",
      "(0, 1) 1\n",
      "(0, 2) 2\n",
      "(1, 0) 3\n",
      "(1, 1) 4\n",
      "(1, 2) 5\n",
      "(2, 0) 6\n",
      "(2, 1) 7\n",
      "(2, 2) 8\n"
     ]
    }
   ],
   "source": [
    "for index in np.ndindex(Z.shape):\n",
    "    print(index, Z[index])"
   ]
  },
  {
   "cell_type": "markdown",
   "metadata": {},
   "source": [
    "#### 56. 生成二维高斯分布"
   ]
  },
  {
   "cell_type": "code",
   "execution_count": 115,
   "metadata": {
    "ExecuteTime": {
     "end_time": "2019-09-11T03:52:32.336509Z",
     "start_time": "2019-09-11T03:52:32.327741Z"
    }
   },
   "outputs": [
    {
     "data": {
      "text/plain": [
       "array([[0.36787944, 0.44822088, 0.51979489, 0.57375342, 0.60279818,\n",
       "        0.60279818, 0.57375342, 0.51979489, 0.44822088, 0.36787944],\n",
       "       [0.44822088, 0.54610814, 0.63331324, 0.69905581, 0.73444367,\n",
       "        0.73444367, 0.69905581, 0.63331324, 0.54610814, 0.44822088],\n",
       "       [0.51979489, 0.63331324, 0.73444367, 0.81068432, 0.85172308,\n",
       "        0.85172308, 0.81068432, 0.73444367, 0.63331324, 0.51979489],\n",
       "       [0.57375342, 0.69905581, 0.81068432, 0.89483932, 0.9401382 ,\n",
       "        0.9401382 , 0.89483932, 0.81068432, 0.69905581, 0.57375342],\n",
       "       [0.60279818, 0.73444367, 0.85172308, 0.9401382 , 0.98773022,\n",
       "        0.98773022, 0.9401382 , 0.85172308, 0.73444367, 0.60279818],\n",
       "       [0.60279818, 0.73444367, 0.85172308, 0.9401382 , 0.98773022,\n",
       "        0.98773022, 0.9401382 , 0.85172308, 0.73444367, 0.60279818],\n",
       "       [0.57375342, 0.69905581, 0.81068432, 0.89483932, 0.9401382 ,\n",
       "        0.9401382 , 0.89483932, 0.81068432, 0.69905581, 0.57375342],\n",
       "       [0.51979489, 0.63331324, 0.73444367, 0.81068432, 0.85172308,\n",
       "        0.85172308, 0.81068432, 0.73444367, 0.63331324, 0.51979489],\n",
       "       [0.44822088, 0.54610814, 0.63331324, 0.69905581, 0.73444367,\n",
       "        0.73444367, 0.69905581, 0.63331324, 0.54610814, 0.44822088],\n",
       "       [0.36787944, 0.44822088, 0.51979489, 0.57375342, 0.60279818,\n",
       "        0.60279818, 0.57375342, 0.51979489, 0.44822088, 0.36787944]])"
      ]
     },
     "execution_count": 115,
     "metadata": {},
     "output_type": "execute_result"
    }
   ],
   "source": [
    "X, Y = np.meshgrid(np.linspace(-1,1,10), np.linspace(-1,1,10))\n",
    "D = np.sqrt(X*X+Y*Y)\n",
    "sigma, mu = 1.0, 0.0\n",
    "G = np.exp(-( (D-mu)**2 / ( 2.0 * sigma**2 ) ) )\n",
    "G"
   ]
  },
  {
   "cell_type": "markdown",
   "metadata": {},
   "source": [
    "#### 57. 随机地在二维数组中放置p个元素"
   ]
  },
  {
   "cell_type": "code",
   "execution_count": 116,
   "metadata": {
    "ExecuteTime": {
     "end_time": "2019-09-11T03:52:32.784580Z",
     "start_time": "2019-09-11T03:52:32.774978Z"
    }
   },
   "outputs": [
    {
     "data": {
      "text/plain": [
       "array([[0., 0., 0., 0., 0.],\n",
       "       [1., 0., 0., 0., 0.],\n",
       "       [0., 0., 0., 0., 0.],\n",
       "       [0., 0., 0., 1., 0.],\n",
       "       [0., 0., 0., 0., 0.]])"
      ]
     },
     "execution_count": 116,
     "metadata": {},
     "output_type": "execute_result"
    }
   ],
   "source": [
    "n = 5\n",
    "p = 3\n",
    "z = np.zeros((n, n))\n",
    "np.put(z, np.random.choice(range(n*n), p), 1)\n",
    "z"
   ]
  },
  {
   "cell_type": "markdown",
   "metadata": {},
   "source": [
    "#### 58. 矩阵每行进行中心化（减去均值）"
   ]
  },
  {
   "cell_type": "code",
   "execution_count": 117,
   "metadata": {
    "ExecuteTime": {
     "end_time": "2019-09-11T03:52:33.193960Z",
     "start_time": "2019-09-11T03:52:33.189268Z"
    }
   },
   "outputs": [
    {
     "data": {
      "text/plain": [
       "array([[0, 1, 2, 3, 4],\n",
       "       [5, 6, 7, 8, 9]])"
      ]
     },
     "execution_count": 117,
     "metadata": {},
     "output_type": "execute_result"
    }
   ],
   "source": [
    "# 1, 答案的方法\n",
    "z = np.arange(10).reshape(2, 5)\n",
    "z"
   ]
  },
  {
   "cell_type": "code",
   "execution_count": 118,
   "metadata": {
    "ExecuteTime": {
     "end_time": "2019-09-11T03:52:33.405321Z",
     "start_time": "2019-09-11T03:52:33.399442Z"
    }
   },
   "outputs": [
    {
     "data": {
      "text/plain": [
       "array([[-2., -1.,  0.,  1.,  2.],\n",
       "       [-2., -1.,  0.,  1.,  2.]])"
      ]
     },
     "execution_count": 118,
     "metadata": {},
     "output_type": "execute_result"
    }
   ],
   "source": [
    "z_new = z - z.mean(axis=1, keepdims=True)\n",
    "z_new"
   ]
  },
  {
   "cell_type": "markdown",
   "metadata": {},
   "source": [
    "注意这里，设置`keepdims`可以方便进行`broadcasting`, 免去手动`reshape`的流程。\n",
    "\n",
    "我们也可以考虑对矩阵每一行应用一个中心化的函数来完成任务。"
   ]
  },
  {
   "cell_type": "code",
   "execution_count": 119,
   "metadata": {
    "ExecuteTime": {
     "end_time": "2019-09-11T03:52:33.810856Z",
     "start_time": "2019-09-11T03:52:33.804195Z"
    }
   },
   "outputs": [
    {
     "data": {
      "text/plain": [
       "array([[-2., -1.,  0.,  1.,  2.],\n",
       "       [-2., -1.,  0.,  1.,  2.]])"
      ]
     },
     "execution_count": 119,
     "metadata": {},
     "output_type": "execute_result"
    }
   ],
   "source": [
    "# 2, apply方法\n",
    "def centered(xs):\n",
    "    return xs - xs.mean()\n",
    "\n",
    "z_new = np.apply_along_axis(centered, 1, z)\n",
    "z_new"
   ]
  },
  {
   "cell_type": "markdown",
   "metadata": {},
   "source": [
    "#### 59. 根据某列数据来排列数组"
   ]
  },
  {
   "cell_type": "code",
   "execution_count": 120,
   "metadata": {
    "ExecuteTime": {
     "end_time": "2019-09-11T03:52:34.527476Z",
     "start_time": "2019-09-11T03:52:34.520053Z"
    }
   },
   "outputs": [
    {
     "data": {
      "text/plain": [
       "array([[2, 8, 6],\n",
       "       [7, 7, 1],\n",
       "       [5, 2, 1]])"
      ]
     },
     "execution_count": 120,
     "metadata": {},
     "output_type": "execute_result"
    }
   ],
   "source": [
    "z = np.random.randint(0, 10, (3, 3))\n",
    "z"
   ]
  },
  {
   "cell_type": "code",
   "execution_count": 121,
   "metadata": {
    "ExecuteTime": {
     "end_time": "2019-09-11T03:52:34.734451Z",
     "start_time": "2019-09-11T03:52:34.728139Z"
    }
   },
   "outputs": [
    {
     "data": {
      "text/plain": [
       "array([[5, 2, 1],\n",
       "       [7, 7, 1],\n",
       "       [2, 8, 6]])"
      ]
     },
     "execution_count": 121,
     "metadata": {},
     "output_type": "execute_result"
    }
   ],
   "source": [
    "# 根据第二列顺序排列\n",
    "z[z[:, 1].argsort(), ]"
   ]
  },
  {
   "cell_type": "markdown",
   "metadata": {},
   "source": [
    "#### 60. 判断二维数组是否含有空列(全为0)"
   ]
  },
  {
   "cell_type": "code",
   "execution_count": 122,
   "metadata": {
    "ExecuteTime": {
     "end_time": "2019-09-11T03:52:35.178889Z",
     "start_time": "2019-09-11T03:52:35.171232Z"
    }
   },
   "outputs": [
    {
     "data": {
      "text/plain": [
       "array([[2, 1, 1, 2, 2, 2, 1, 2, 0, 1],\n",
       "       [2, 0, 2, 1, 2, 1, 2, 1, 0, 1],\n",
       "       [2, 1, 1, 0, 0, 1, 2, 1, 1, 1]])"
      ]
     },
     "execution_count": 122,
     "metadata": {},
     "output_type": "execute_result"
    }
   ],
   "source": [
    "z = np.random.randint(0, 3, (3, 10))\n",
    "z"
   ]
  },
  {
   "cell_type": "code",
   "execution_count": 123,
   "metadata": {
    "ExecuteTime": {
     "end_time": "2019-09-11T03:52:35.377928Z",
     "start_time": "2019-09-11T03:52:35.373928Z"
    }
   },
   "outputs": [
    {
     "name": "stdout",
     "output_type": "stream",
     "text": [
      "False\n"
     ]
    }
   ],
   "source": [
    "print((~z.any(axis=0)).any())"
   ]
  },
  {
   "cell_type": "markdown",
   "metadata": {},
   "source": [
    "一旦有空列的时候， `z.any(axis=0)`返回`False`， 即`~z.any(axis=0)`返回`True`， 之后再应用`any`, 则比返回`True`。 反之，若无任何空列，`~z.any(axis=0)`全部返回`False`， 应用`any`，依旧返回`False`。"
   ]
  },
  {
   "cell_type": "markdown",
   "metadata": {},
   "source": [
    "#### 61. 给定一个数，在数组中找出距离其最近的数\n",
    "与50题重复."
   ]
  },
  {
   "cell_type": "markdown",
   "metadata": {},
   "source": [
    "#### 62. 考虑两个数组，形状分别是（3， 1）， （1， 3），如何使用迭代器将其相加？"
   ]
  },
  {
   "cell_type": "code",
   "execution_count": 124,
   "metadata": {
    "ExecuteTime": {
     "end_time": "2019-09-11T03:52:36.136940Z",
     "start_time": "2019-09-11T03:52:36.131680Z"
    }
   },
   "outputs": [
    {
     "name": "stdout",
     "output_type": "stream",
     "text": [
      "[[0 1 2]\n",
      " [1 2 3]\n",
      " [2 3 4]]\n"
     ]
    }
   ],
   "source": [
    "A = np.arange(3).reshape(3,1)\n",
    "B = np.arange(3).reshape(1,3)\n",
    "it = np.nditer([A,B,None])\n",
    "for x,y,z in it: z[...] = x + y\n",
    "print(it.operands[2])"
   ]
  },
  {
   "cell_type": "markdown",
   "metadata": {},
   "source": [
    "#### 63. 创建一个带有名称属性的数组类"
   ]
  },
  {
   "cell_type": "code",
   "execution_count": 125,
   "metadata": {
    "ExecuteTime": {
     "end_time": "2019-09-11T03:52:36.832242Z",
     "start_time": "2019-09-11T03:52:36.826046Z"
    }
   },
   "outputs": [
    {
     "name": "stdout",
     "output_type": "stream",
     "text": [
      "range_10\n"
     ]
    }
   ],
   "source": [
    "class NamedArray(np.ndarray):\n",
    "    def __new__(cls, array, name=\"no name\"):\n",
    "        obj = np.asarray(array).view(cls)\n",
    "        obj.name = name\n",
    "        return obj\n",
    "    def __array_finalize__(self, obj):\n",
    "        if obj is None: return\n",
    "        self.info = getattr(obj, 'name', \"no name\")\n",
    "\n",
    "Z = NamedArray(np.arange(10), \"range_10\")\n",
    "print (Z.name)"
   ]
  },
  {
   "cell_type": "markdown",
   "metadata": {},
   "source": [
    "#### 64. 给定一个数值向量，和一个索引向量，根据后者的索引，在前者对应位置加1（注意重复索引）"
   ]
  },
  {
   "cell_type": "code",
   "execution_count": 126,
   "metadata": {
    "ExecuteTime": {
     "end_time": "2019-09-11T03:52:37.201952Z",
     "start_time": "2019-09-11T03:52:37.193164Z"
    }
   },
   "outputs": [
    {
     "data": {
      "text/plain": [
       "array([2., 2., 3., 3., 2., 1., 6., 3., 4., 4.])"
      ]
     },
     "execution_count": 126,
     "metadata": {},
     "output_type": "execute_result"
    }
   ],
   "source": [
    "# Author: Brett Olsen\n",
    "Z = np.ones(10)\n",
    "I = np.random.randint(0,len(Z),20)\n",
    "\n",
    "Z_new = Z + np.bincount(I, minlength=len(Z))\n",
    "Z_new"
   ]
  },
  {
   "cell_type": "code",
   "execution_count": 127,
   "metadata": {
    "ExecuteTime": {
     "end_time": "2019-09-11T03:52:37.381065Z",
     "start_time": "2019-09-11T03:52:37.374801Z"
    }
   },
   "outputs": [
    {
     "data": {
      "text/plain": [
       "array([2., 2., 3., 3., 2., 1., 6., 3., 4., 4.])"
      ]
     },
     "execution_count": 127,
     "metadata": {},
     "output_type": "execute_result"
    }
   ],
   "source": [
    "# Another solution\n",
    "# Author: Bartosz Telenczuk\n",
    "np.add.at(Z, I, 1)\n",
    "Z"
   ]
  },
  {
   "cell_type": "markdown",
   "metadata": {},
   "source": [
    "#### 65. 根据索引列表I，对数值列表X进行累加，得到F"
   ]
  },
  {
   "cell_type": "code",
   "execution_count": 128,
   "metadata": {
    "ExecuteTime": {
     "end_time": "2019-09-11T03:52:38.185038Z",
     "start_time": "2019-09-11T03:52:38.179403Z"
    }
   },
   "outputs": [
    {
     "name": "stdout",
     "output_type": "stream",
     "text": [
      "[0. 7. 0. 6. 5. 0. 0. 0. 0. 3.]\n"
     ]
    }
   ],
   "source": [
    "X = [1,2,3,4,5,6]\n",
    "I = [1,3,9,3,4,1]\n",
    "F = np.bincount(I,X)\n",
    "print(F)"
   ]
  },
  {
   "cell_type": "markdown",
   "metadata": {},
   "source": [
    "这里`bincount`的用法有点绕...让我们举个例子先:-)\n",
    "\n",
    "我们把`I`中出现的数字比作个人的银行账户编号，可以看到这里最大的编号为9，所以我们暂时可以只考虑编号0~9的账户情况， 这10个账户，正好对应最后得到F的10个位置。进一步地，`I`与`X`结合，可以看作这些银行账户交易的流水，其中`I`为账户编号，`X`为对应的金额。比如，因为`I[0]=1`，我们知道是账户1发生交易，对应的`X[0]=1`，所以账户1的金额要加1；此外账户1还发生一次交易（`I[5]=1`）, 对应的金额`X[5] = 6`，所以这段时间账户1总的金额就是`6 + 1 = 7`，所以得到`F[1] = 7`.\n",
    "\n",
    "简言之，我们的任务就是根据`X`和`I`组成的交易流水，来计算各个账户总的金额。"
   ]
  },
  {
   "cell_type": "markdown",
   "metadata": {},
   "source": [
    "#### 66. 给定一张照片（w, h, 3），计算其中不同颜色的个数"
   ]
  },
  {
   "cell_type": "code",
   "execution_count": 129,
   "metadata": {
    "ExecuteTime": {
     "end_time": "2019-09-11T03:52:38.749155Z",
     "start_time": "2019-09-11T03:52:38.744103Z"
    }
   },
   "outputs": [],
   "source": [
    "# Author: Nadav Horesh\n",
    "\n",
    "w,h = 16, 16\n",
    "I = np.random.randint(0,2,(h,w,3)).astype(np.ubyte)"
   ]
  },
  {
   "cell_type": "code",
   "execution_count": 130,
   "metadata": {
    "ExecuteTime": {
     "end_time": "2019-09-11T03:52:39.196490Z",
     "start_time": "2019-09-11T03:52:39.189338Z"
    }
   },
   "outputs": [
    {
     "ename": "OverflowError",
     "evalue": "Python integer 65536 out of bounds for uint8",
     "output_type": "error",
     "traceback": [
      "\u001b[0;31m---------------------------------------------------------------------------\u001b[0m",
      "\u001b[0;31mOverflowError\u001b[0m                             Traceback (most recent call last)",
      "Cell \u001b[0;32mIn[130], line 2\u001b[0m\n\u001b[1;32m      1\u001b[0m \u001b[38;5;66;03m# 注意我们这里必须先乘256*256，否则会爆栈 \u001b[39;00m\n\u001b[0;32m----> 2\u001b[0m F \u001b[38;5;241m=\u001b[39m \u001b[43mI\u001b[49m\u001b[43m[\u001b[49m\u001b[38;5;241;43m.\u001b[39;49m\u001b[38;5;241;43m.\u001b[39;49m\u001b[38;5;241;43m.\u001b[39;49m\u001b[43m,\u001b[49m\u001b[38;5;241;43m0\u001b[39;49m\u001b[43m]\u001b[49m\u001b[38;5;241;43m*\u001b[39;49m\u001b[43m(\u001b[49m\u001b[38;5;241;43m256\u001b[39;49m\u001b[38;5;241;43m*\u001b[39;49m\u001b[38;5;241;43m256\u001b[39;49m\u001b[43m)\u001b[49m \u001b[38;5;241m+\u001b[39m I[\u001b[38;5;241m.\u001b[39m\u001b[38;5;241m.\u001b[39m\u001b[38;5;241m.\u001b[39m,\u001b[38;5;241m1\u001b[39m]\u001b[38;5;241m*\u001b[39m\u001b[38;5;241m256\u001b[39m \u001b[38;5;241m+\u001b[39mI[\u001b[38;5;241m.\u001b[39m\u001b[38;5;241m.\u001b[39m\u001b[38;5;241m.\u001b[39m,\u001b[38;5;241m2\u001b[39m]\n\u001b[1;32m      3\u001b[0m n \u001b[38;5;241m=\u001b[39m \u001b[38;5;28mlen\u001b[39m(np\u001b[38;5;241m.\u001b[39munique(F))\n\u001b[1;32m      4\u001b[0m \u001b[38;5;28mprint\u001b[39m(n)\n",
      "\u001b[0;31mOverflowError\u001b[0m: Python integer 65536 out of bounds for uint8"
     ]
    }
   ],
   "source": [
    "# 注意我们这里必须先乘256*256，否则会爆栈 \n",
    "F = I[...,0]*(256*256) + I[...,1]*256 +I[...,2]\n",
    "n = len(np.unique(F))\n",
    "print(n)"
   ]
  },
  {
   "cell_type": "markdown",
   "metadata": {},
   "source": [
    "#### 67. 考虑一个四维数组，计算后两个轴上的元素和"
   ]
  },
  {
   "cell_type": "code",
   "execution_count": null,
   "metadata": {
    "ExecuteTime": {
     "end_time": "2019-09-11T03:52:39.592580Z",
     "start_time": "2019-09-11T03:52:39.586950Z"
    }
   },
   "outputs": [],
   "source": [
    "A = np.random.randint(0,10,(3,4,3,4))\n",
    "A.sum(axis=(-2,-1))"
   ]
  },
  {
   "cell_type": "markdown",
   "metadata": {},
   "source": [
    "#### 68. 给定向量D，根据索引数组S得到子集，计算子集上的均值"
   ]
  },
  {
   "cell_type": "code",
   "execution_count": null,
   "metadata": {
    "ExecuteTime": {
     "end_time": "2019-09-11T03:52:40.202176Z",
     "start_time": "2019-09-11T03:52:40.193964Z"
    }
   },
   "outputs": [],
   "source": [
    "D = np.random.uniform(0,1,100)\n",
    "S = np.random.randint(0,10,100)\n",
    "D_sums = np.bincount(S, weights=D)\n",
    "D_counts = np.bincount(S)\n",
    "D_means = D_sums / D_counts\n",
    "print(D_means)"
   ]
  },
  {
   "cell_type": "markdown",
   "metadata": {},
   "source": [
    "结合65题给出的例子，在那里是根据流水计算各个账户总的金额，这里是计算各个账户每次交易的平均金额，也就是该账户总的金额除以其交易的次数。"
   ]
  },
  {
   "cell_type": "markdown",
   "metadata": {},
   "source": [
    "#### 69. 获取矩阵点乘(dot product)结果的对角线元素"
   ]
  },
  {
   "cell_type": "code",
   "execution_count": null,
   "metadata": {
    "ExecuteTime": {
     "end_time": "2019-09-11T03:52:40.970004Z",
     "start_time": "2019-09-11T03:52:40.963259Z"
    }
   },
   "outputs": [],
   "source": [
    "# Author: Mathieu Blondel\n",
    "\n",
    "A = np.random.uniform(0,1,(5,5))\n",
    "B = np.random.uniform(0,1,(5,5))\n",
    "\n",
    "# 慢的版本\n",
    "np.diag(np.dot(A, B))\n",
    "\n",
    "# 快的版本\n",
    "np.sum(A * B.T, axis=1)\n",
    "\n",
    "# 更快的版本\n",
    "np.einsum(\"ij,ji->i\", A, B)"
   ]
  },
  {
   "cell_type": "markdown",
   "metadata": {},
   "source": [
    "#### 70. 如何在数组[1, 2, 3, 4, 5]每两个值的中间添加三个0"
   ]
  },
  {
   "cell_type": "code",
   "execution_count": null,
   "metadata": {
    "ExecuteTime": {
     "end_time": "2019-09-11T03:52:41.396754Z",
     "start_time": "2019-09-11T03:52:41.390102Z"
    }
   },
   "outputs": [],
   "source": [
    "z = np.array([1, 2, 3, 4, 5])\n",
    "nz = 3  # 0的个数\n",
    "v = np.zeros(len(z) + nz*(len(z)-1))\n",
    "v[::nz+1] = z\n",
    "v"
   ]
  },
  {
   "cell_type": "markdown",
   "metadata": {},
   "source": [
    "#### 71. 维度分别为（5， 5， 3）， （5， 5）的两个数组相乘"
   ]
  },
  {
   "cell_type": "code",
   "execution_count": null,
   "metadata": {
    "ExecuteTime": {
     "end_time": "2019-09-11T03:52:42.190547Z",
     "start_time": "2019-09-11T03:52:42.184933Z"
    },
    "scrolled": true
   },
   "outputs": [],
   "source": [
    "A = np.ones((5,5,3))\n",
    "B = 2*np.ones((5,5))\n",
    "print(A * B[:,:,None])"
   ]
  },
  {
   "cell_type": "markdown",
   "metadata": {},
   "source": [
    "#### 72. 交换数组的两行"
   ]
  },
  {
   "cell_type": "code",
   "execution_count": null,
   "metadata": {
    "ExecuteTime": {
     "end_time": "2019-09-11T03:52:42.592901Z",
     "start_time": "2019-09-11T03:52:42.585652Z"
    }
   },
   "outputs": [],
   "source": [
    "A = np.arange(25).reshape((5, 5))\n",
    "A"
   ]
  },
  {
   "cell_type": "code",
   "execution_count": null,
   "metadata": {
    "ExecuteTime": {
     "end_time": "2019-09-11T03:52:42.770106Z",
     "start_time": "2019-09-11T03:52:42.764250Z"
    }
   },
   "outputs": [],
   "source": [
    "# 交换第一、二两行\n",
    "A[[0, 1]] = A[[1, 0]]\n",
    "A"
   ]
  },
  {
   "cell_type": "markdown",
   "metadata": {},
   "source": [
    "#### 73. 给定10个三元组描述10个三角形，找出所有边的集合"
   ]
  },
  {
   "cell_type": "code",
   "execution_count": null,
   "metadata": {
    "ExecuteTime": {
     "end_time": "2019-09-11T03:52:43.126543Z",
     "start_time": "2019-09-11T03:52:43.120300Z"
    }
   },
   "outputs": [],
   "source": [
    "faces = np.random.randint(0,100,(10,3))\n",
    "F = np.roll(faces.repeat(2,axis=1),-1,axis=1)\n",
    "F = F.reshape(len(F)*3,2)\n",
    "F = np.sort(F,axis=1)\n",
    "G = F.view( dtype=[('p0',F.dtype),('p1',F.dtype)] )\n",
    "G = np.unique(G)\n",
    "print(G)"
   ]
  },
  {
   "cell_type": "markdown",
   "metadata": {},
   "source": [
    "感觉这里的方法比较巧妙，可以将每一步拆解来理解怎么将每条边抽取出来。之后比较细节的地方就是对描述“边”的二元组排序(如果不排序，后面比较的时候就会出现(a, b)与（b, a）不是同一条边的错误判断)，之后通过`view`转化类型，方便比较（使用`np.unique`）"
   ]
  },
  {
   "cell_type": "markdown",
   "metadata": {},
   "source": [
    "#### 74. 给定A，我们有C = np.bincount(A), 那么，给定C，如何找到对应的A？"
   ]
  },
  {
   "cell_type": "code",
   "execution_count": null,
   "metadata": {
    "ExecuteTime": {
     "end_time": "2019-09-11T03:52:44.134652Z",
     "start_time": "2019-09-11T03:52:44.127862Z"
    }
   },
   "outputs": [],
   "source": [
    "C = np.bincount([1,1,2,3,4,4,6])\n",
    "A = np.repeat(np.arange(len(C)), C)\n",
    "print(A)"
   ]
  },
  {
   "cell_type": "markdown",
   "metadata": {},
   "source": [
    "#### 75. 用滑动窗口计算平均值"
   ]
  },
  {
   "cell_type": "code",
   "execution_count": null,
   "metadata": {
    "ExecuteTime": {
     "end_time": "2019-09-11T03:52:44.494391Z",
     "start_time": "2019-09-11T03:52:44.488474Z"
    }
   },
   "outputs": [],
   "source": [
    "def moving_average(a, n=3) :\n",
    "    ret = np.cumsum(a, dtype=float)\n",
    "    ret[n:] = ret[n:] - ret[:-n]\n",
    "    return ret[n - 1:] / n\n",
    "Z = np.arange(20)\n",
    "print(moving_average(Z, n=3))"
   ]
  },
  {
   "cell_type": "markdown",
   "metadata": {},
   "source": [
    "#### 76. 给定一个一维数组，组建一个二维数组，使得第一行为Z[0], Z[1], Z[2], 第二行为Z[1], Z[2], Z[3], 依此类推，最后一行为Z[-3], Z[-2], Z[-1]"
   ]
  },
  {
   "cell_type": "code",
   "execution_count": null,
   "metadata": {
    "ExecuteTime": {
     "end_time": "2019-09-11T03:52:45.038677Z",
     "start_time": "2019-09-11T03:52:45.032871Z"
    }
   },
   "outputs": [],
   "source": [
    "from numpy.lib import stride_tricks\n",
    "\n",
    "def rolling(a, window):\n",
    "    shape = (a.size - window + 1, window)\n",
    "    strides = (a.itemsize, a.itemsize)\n",
    "    return stride_tricks.as_strided(a, shape=shape, strides=strides)\n",
    "Z = rolling(np.arange(10), 3)\n",
    "print(Z)"
   ]
  },
  {
   "cell_type": "markdown",
   "metadata": {},
   "source": [
    "#### 77. 如何原地对布尔值取反，如何原地改变数字的正负"
   ]
  },
  {
   "cell_type": "code",
   "execution_count": null,
   "metadata": {
    "ExecuteTime": {
     "end_time": "2019-09-11T03:52:45.395912Z",
     "start_time": "2019-09-11T03:52:45.388497Z"
    }
   },
   "outputs": [],
   "source": [
    "Z = np.random.randint(0,2,100)\n",
    "np.logical_not(Z, out=Z)\n",
    "\n",
    "Z = np.random.uniform(-1.0,1.0,100)\n",
    "np.negative(Z, out=Z)"
   ]
  },
  {
   "cell_type": "markdown",
   "metadata": {},
   "source": [
    "#### 78. 计算点p到各个直线i的距离, 其中直线由(P0[i]， P1[i])表示，P0，P1为一系列对应的点"
   ]
  },
  {
   "cell_type": "code",
   "execution_count": null,
   "metadata": {
    "ExecuteTime": {
     "end_time": "2019-09-11T03:52:45.953537Z",
     "start_time": "2019-09-11T03:52:45.938787Z"
    }
   },
   "outputs": [],
   "source": [
    "def distance(P0, P1, p):\n",
    "    T = P1 - P0\n",
    "    L = (T**2).sum(axis=1)\n",
    "    U = -((P0[:,0]-p[...,0])*T[:,0] + (P0[:,1]-p[...,1])*T[:,1]) / L\n",
    "    U = U.reshape(len(U),1)\n",
    "    D = P0 + U*T - p\n",
    "    return np.sqrt((D**2).sum(axis=1))\n",
    "\n",
    "P0 = np.random.uniform(-10,10,(10,2))\n",
    "P1 = np.random.uniform(-10,10,(10,2))\n",
    "p  = np.random.uniform(-10,10,( 1,2))\n",
    "print(distance(P0, P1, p))"
   ]
  },
  {
   "cell_type": "markdown",
   "metadata": {},
   "source": [
    "#### 79. 接上题，如何计算P0中各点P0[j]到各直线（P0[i], P1[i]）的距离"
   ]
  },
  {
   "cell_type": "code",
   "execution_count": null,
   "metadata": {
    "ExecuteTime": {
     "end_time": "2019-09-11T03:52:46.320238Z",
     "start_time": "2019-09-11T03:52:46.312780Z"
    }
   },
   "outputs": [],
   "source": [
    "# based on distance function from previous question\n",
    "P0 = np.random.uniform(-10, 10, (10,2))\n",
    "P1 = np.random.uniform(-10,10,(10,2))\n",
    "p = np.random.uniform(-10, 10, (10,2))\n",
    "print(np.array([distance(P0,P1,p_i) for p_i in p]))"
   ]
  },
  {
   "cell_type": "markdown",
   "metadata": {},
   "source": [
    "#### 80. 给定任意一个数组，编写一个函数，接受数组和一个元素为参数，返回以元素为中心的子集（必要的时候可以进行填充）"
   ]
  },
  {
   "cell_type": "code",
   "execution_count": null,
   "metadata": {
    "ExecuteTime": {
     "end_time": "2019-09-11T03:52:46.831657Z",
     "start_time": "2019-09-11T03:52:46.817848Z"
    }
   },
   "outputs": [],
   "source": [
    "\n",
    "\n",
    "# Author: Nicolas Rougier\n",
    "\n",
    "Z = np.random.randint(0,10,(10,10))\n",
    "shape = (5,5)\n",
    "fill  = 0\n",
    "position = (1,1)\n",
    "\n",
    "R = np.ones(shape, dtype=Z.dtype)*fill\n",
    "P  = np.array(list(position)).astype(int)\n",
    "Rs = np.array(list(R.shape)).astype(int)\n",
    "Zs = np.array(list(Z.shape)).astype(int)\n",
    "\n",
    "R_start = np.zeros((len(shape),)).astype(int)\n",
    "R_stop  = np.array(list(shape)).astype(int)\n",
    "Z_start = (P-Rs//2)\n",
    "Z_stop  = (P+Rs//2)+Rs%2\n",
    "\n",
    "R_start = (R_start - np.minimum(Z_start,0)).tolist()\n",
    "Z_start = (np.maximum(Z_start,0)).tolist()\n",
    "R_stop = np.maximum(R_start, (R_stop - np.maximum(Z_stop-Zs,0))).tolist()\n",
    "Z_stop = (np.minimum(Z_stop,Zs)).tolist()\n",
    "\n",
    "r = [slice(start,stop) for start,stop in zip(R_start,R_stop)]\n",
    "z = [slice(start,stop) for start,stop in zip(Z_start,Z_stop)]\n",
    "R[r] = Z[z]\n",
    "print(Z)\n",
    "print(R)"
   ]
  },
  {
   "cell_type": "markdown",
   "metadata": {},
   "source": [
    "PS: 感觉难度为三星的题目（64题及之后）很多出的不太好...考察的是更加灵活地运用Numpy，逻辑是没问题，但是缺乏具体的示例，没有依托实际的问题，就显得比较空洞Orz"
   ]
  },
  {
   "cell_type": "markdown",
   "metadata": {},
   "source": [
    "#### 81. 有数组Z = [1,2,3,4,5,6,7,8,9,10,11,12,13,14]， 如何生成 = [[1,2,3,4], [2,3,4,5], [3,4,5,6], ..., [11,12,13,14]]？"
   ]
  },
  {
   "cell_type": "code",
   "execution_count": null,
   "metadata": {
    "ExecuteTime": {
     "end_time": "2019-09-11T03:52:47.729156Z",
     "start_time": "2019-09-11T03:52:47.724062Z"
    }
   },
   "outputs": [],
   "source": [
    "# 1， 答案的方法\n",
    "Z = np.arange(1,15,dtype=np.uint32)\n",
    "R = stride_tricks.as_strided(Z,(11,4),(4,4))\n",
    "print(R)"
   ]
  },
  {
   "cell_type": "code",
   "execution_count": null,
   "metadata": {
    "ExecuteTime": {
     "end_time": "2019-09-11T03:52:47.915575Z",
     "start_time": "2019-09-11T03:52:47.910859Z"
    }
   },
   "outputs": [],
   "source": [
    "# 2， 76题的一个特殊形式\n",
    "z = np.arange(1, 15)\n",
    "rolling(z, 4)"
   ]
  },
  {
   "cell_type": "markdown",
   "metadata": {},
   "source": [
    "#### 82. 计算矩阵的秩"
   ]
  },
  {
   "cell_type": "code",
   "execution_count": null,
   "metadata": {
    "ExecuteTime": {
     "end_time": "2019-09-11T03:52:50.079379Z",
     "start_time": "2019-09-11T03:52:49.796291Z"
    }
   },
   "outputs": [],
   "source": [
    "# 1， 答案的方法\n",
    "Z = np.random.uniform(0,1,(10,10))\n",
    "U, S, V = np.linalg.svd(Z) # Singular Value Decomposition\n",
    "rank = np.sum(S > 1e-10)\n",
    "print(rank)"
   ]
  },
  {
   "cell_type": "code",
   "execution_count": null,
   "metadata": {
    "ExecuteTime": {
     "end_time": "2019-09-11T03:52:50.086947Z",
     "start_time": "2019-09-11T03:52:50.082063Z"
    }
   },
   "outputs": [],
   "source": [
    "# 2， 调用API\n",
    "np.linalg.matrix_rank(Z)"
   ]
  },
  {
   "cell_type": "markdown",
   "metadata": {},
   "source": [
    "#### 83. 找出数组中的众数"
   ]
  },
  {
   "cell_type": "code",
   "execution_count": null,
   "metadata": {
    "ExecuteTime": {
     "end_time": "2019-09-11T03:52:50.448862Z",
     "start_time": "2019-09-11T03:52:50.440273Z"
    }
   },
   "outputs": [],
   "source": [
    "Z = np.random.randint(0,10,50)\n",
    "Z"
   ]
  },
  {
   "cell_type": "code",
   "execution_count": null,
   "metadata": {
    "ExecuteTime": {
     "end_time": "2019-09-11T03:52:50.627034Z",
     "start_time": "2019-09-11T03:52:50.622786Z"
    }
   },
   "outputs": [],
   "source": [
    "print(np.bincount(Z).argmax())"
   ]
  },
  {
   "cell_type": "markdown",
   "metadata": {},
   "source": [
    "如果不限制在Numpy之内，我们可以直接调用Scipy提供的API"
   ]
  },
  {
   "cell_type": "code",
   "execution_count": null,
   "metadata": {
    "ExecuteTime": {
     "end_time": "2019-09-11T03:52:52.311760Z",
     "start_time": "2019-09-11T03:52:50.974249Z"
    }
   },
   "outputs": [],
   "source": [
    "from scipy import stats\n",
    "stats.mode(Z)"
   ]
  },
  {
   "cell_type": "markdown",
   "metadata": {},
   "source": [
    "#### 84. 从10x10的矩阵中抽取出所有的3x3矩阵"
   ]
  },
  {
   "cell_type": "code",
   "execution_count": null,
   "metadata": {
    "ExecuteTime": {
     "end_time": "2019-09-11T03:52:52.333357Z",
     "start_time": "2019-09-11T03:52:52.318571Z"
    }
   },
   "outputs": [],
   "source": [
    "Z = np.random.randint(0,5,(10,10))\n",
    "n = 3\n",
    "i = 1 + (Z.shape[0]-3)\n",
    "j = 1 + (Z.shape[1]-3)\n",
    "C = stride_tricks.as_strided(Z, shape=(i, j, n, n), strides=Z.strides + Z.strides)\n",
    "print(C)"
   ]
  },
  {
   "cell_type": "markdown",
   "metadata": {},
   "source": [
    "#### 85. 构造二维数组的子类，使得Z[i, j] = Z[j, i]"
   ]
  },
  {
   "cell_type": "code",
   "execution_count": null,
   "metadata": {
    "ExecuteTime": {
     "end_time": "2019-09-11T03:52:52.461549Z",
     "start_time": "2019-09-11T03:52:52.338431Z"
    }
   },
   "outputs": [],
   "source": [
    "# Author: Eric O. Lebigot\n",
    "# Note: only works for 2d array and value setting using indices\n",
    "\n",
    "class Symetric(np.ndarray):\n",
    "    def __setitem__(self, index, value):\n",
    "        i,j = index\n",
    "        super(Symetric, self).__setitem__((i,j), value)\n",
    "        super(Symetric, self).__setitem__((j,i), value)\n",
    "\n",
    "def symetric(Z):\n",
    "    return np.asarray(Z + Z.T - np.diag(Z.diagonal())).view(Symetric)\n",
    "\n",
    "S = symetric(np.random.randint(0,10,(5,5)))\n",
    "S[2,3] = 42\n",
    "print(S)"
   ]
  },
  {
   "cell_type": "markdown",
   "metadata": {},
   "source": [
    "#### 86. 给定p个(n, n)矩阵和p个(n, 1)向量， 计算张量乘法(tensor product)"
   ]
  },
  {
   "cell_type": "code",
   "execution_count": null,
   "metadata": {
    "ExecuteTime": {
     "end_time": "2019-09-11T03:52:52.560636Z",
     "start_time": "2019-09-11T03:52:52.464402Z"
    }
   },
   "outputs": [],
   "source": [
    "p, n = 10, 20\n",
    "M = np.ones((p,n,n))\n",
    "V = np.ones((p,n,1))\n",
    "S = np.tensordot(M, V, axes=[[0, 2], [0, 1]])\n",
    "print(S)"
   ]
  },
  {
   "cell_type": "markdown",
   "metadata": {},
   "source": [
    "#### 87. 给定16x16的数组，将其分成4x4的小块，求每块的和"
   ]
  },
  {
   "cell_type": "code",
   "execution_count": null,
   "metadata": {
    "ExecuteTime": {
     "end_time": "2019-09-11T03:52:52.660295Z",
     "start_time": "2019-09-11T03:52:52.563353Z"
    }
   },
   "outputs": [],
   "source": [
    "Z = np.ones((16,16))\n",
    "k = 4\n",
    "S = np.add.reduceat(np.add.reduceat(Z, np.arange(0, Z.shape[0], k), axis=0),\n",
    "                                       np.arange(0, Z.shape[1], k), axis=1)\n",
    "print(S)"
   ]
  },
  {
   "cell_type": "markdown",
   "metadata": {},
   "source": [
    "#### 88. 用数组实现生存游戏"
   ]
  },
  {
   "cell_type": "code",
   "execution_count": null,
   "metadata": {
    "ExecuteTime": {
     "end_time": "2019-09-11T03:52:53.018120Z",
     "start_time": "2019-09-11T03:52:52.989758Z"
    }
   },
   "outputs": [],
   "source": [
    "def iterate(Z):\n",
    "    # Count neighbours\n",
    "    N = (Z[0:-2,0:-2] + Z[0:-2,1:-1] + Z[0:-2,2:] +\n",
    "         Z[1:-1,0:-2]                + Z[1:-1,2:] +\n",
    "         Z[2:  ,0:-2] + Z[2:  ,1:-1] + Z[2:  ,2:])\n",
    "\n",
    "    # Apply rules\n",
    "    birth = (N==3) & (Z[1:-1,1:-1]==0)\n",
    "    survive = ((N==2) | (N==3)) & (Z[1:-1,1:-1]==1)\n",
    "    Z[...] = 0\n",
    "    Z[1:-1,1:-1][birth | survive] = 1\n",
    "    return Z\n",
    "\n",
    "Z = np.random.randint(0,2,(50,50))\n",
    "for i in range(100): Z = iterate(Z)\n",
    "print(Z)"
   ]
  },
  {
   "cell_type": "markdown",
   "metadata": {},
   "source": [
    "#### 89. 获取数组最大的n个值"
   ]
  },
  {
   "cell_type": "code",
   "execution_count": null,
   "metadata": {
    "ExecuteTime": {
     "end_time": "2019-09-11T03:52:53.380110Z",
     "start_time": "2019-09-11T03:52:53.352993Z"
    }
   },
   "outputs": [],
   "source": [
    "Z = np.arange(10000)\n",
    "np.random.shuffle(Z)\n",
    "n = 5"
   ]
  },
  {
   "cell_type": "code",
   "execution_count": null,
   "metadata": {
    "ExecuteTime": {
     "end_time": "2019-09-11T03:52:53.549524Z",
     "start_time": "2019-09-11T03:52:53.543952Z"
    }
   },
   "outputs": [],
   "source": [
    "# 较慢\n",
    "print (Z[np.argsort(Z)[-n:]])"
   ]
  },
  {
   "cell_type": "code",
   "execution_count": null,
   "metadata": {
    "ExecuteTime": {
     "end_time": "2019-09-11T03:52:53.965524Z",
     "start_time": "2019-09-11T03:52:53.960038Z"
    }
   },
   "outputs": [],
   "source": [
    "# 较快\n",
    "print (Z[np.argpartition(-Z,n)[:n]])"
   ]
  },
  {
   "cell_type": "markdown",
   "metadata": {},
   "source": [
    "#### 90. 给定任意大小的数组，计算其笛卡尔积"
   ]
  },
  {
   "cell_type": "code",
   "execution_count": null,
   "metadata": {
    "ExecuteTime": {
     "end_time": "2019-09-11T03:52:54.329733Z",
     "start_time": "2019-09-11T03:52:54.322385Z"
    }
   },
   "outputs": [],
   "source": [
    "def cartesian(arrays):\n",
    "    arrays = [np.asarray(a) for a in arrays]\n",
    "    shape = (len(x) for x in arrays)\n",
    "\n",
    "    ix = np.indices(shape, dtype=int)\n",
    "    ix = ix.reshape(len(arrays), -1).T\n",
    "\n",
    "    for n, arr in enumerate(arrays):\n",
    "        ix[:, n] = arrays[n][ix[:, n]]\n",
    "\n",
    "    return ix\n",
    "\n",
    "print (cartesian(([1, 2, 3], [4, 5], [6, 7])))"
   ]
  },
  {
   "cell_type": "markdown",
   "metadata": {},
   "source": [
    "#### 91. 将一般的数组转化为结构化数组"
   ]
  },
  {
   "cell_type": "code",
   "execution_count": null,
   "metadata": {
    "ExecuteTime": {
     "end_time": "2019-09-11T03:52:54.976811Z",
     "start_time": "2019-09-11T03:52:54.972026Z"
    }
   },
   "outputs": [],
   "source": [
    "Z = np.array([(\"Hello\", 2.5, 3),\n",
    "              (\"World\", 3.6, 2)])\n",
    "Z"
   ]
  },
  {
   "cell_type": "code",
   "execution_count": null,
   "metadata": {
    "ExecuteTime": {
     "end_time": "2019-09-11T03:52:55.165457Z",
     "start_time": "2019-09-11T03:52:55.159322Z"
    }
   },
   "outputs": [],
   "source": [
    "R = np.core.records.fromarrays(Z.T, \n",
    "                               names='col1, col2, col3',\n",
    "                               formats = 'S8, f8, i8')\n",
    "R"
   ]
  },
  {
   "cell_type": "markdown",
   "metadata": {},
   "source": [
    "#### 92. 用三种方法计算大向量的三次方"
   ]
  },
  {
   "cell_type": "code",
   "execution_count": null,
   "metadata": {
    "ExecuteTime": {
     "end_time": "2019-09-11T03:52:56.345253Z",
     "start_time": "2019-09-11T03:52:55.506009Z"
    }
   },
   "outputs": [],
   "source": [
    "x = np.random.rand(int(5e7))"
   ]
  },
  {
   "cell_type": "code",
   "execution_count": null,
   "metadata": {
    "ExecuteTime": {
     "end_time": "2019-09-11T03:53:28.997283Z",
     "start_time": "2019-09-11T03:52:56.348050Z"
    }
   },
   "outputs": [],
   "source": [
    "%timeit np.power(x,3)"
   ]
  },
  {
   "cell_type": "code",
   "execution_count": null,
   "metadata": {
    "ExecuteTime": {
     "end_time": "2019-09-11T03:53:31.057562Z",
     "start_time": "2019-09-11T03:53:28.999904Z"
    }
   },
   "outputs": [],
   "source": [
    "%timeit x*x*x"
   ]
  },
  {
   "cell_type": "code",
   "execution_count": null,
   "metadata": {
    "ExecuteTime": {
     "end_time": "2019-09-11T03:53:33.596714Z",
     "start_time": "2019-09-11T03:53:31.060209Z"
    }
   },
   "outputs": [],
   "source": [
    "%timeit np.einsum('i,i,i->i',x,x,x)"
   ]
  },
  {
   "cell_type": "markdown",
   "metadata": {},
   "source": [
    "#### 93. 考虑形状（8,3）和（2,2）的两个数组A和B. 如何查找包含B的每一行元素的A行，不考虑B中元素的顺序"
   ]
  },
  {
   "cell_type": "code",
   "execution_count": null,
   "metadata": {
    "ExecuteTime": {
     "end_time": "2019-09-11T03:53:33.606696Z",
     "start_time": "2019-09-11T03:53:33.599354Z"
    }
   },
   "outputs": [],
   "source": [
    "A = np.random.randint(0,5,(8,3))\n",
    "B = np.random.randint(0,5,(2,2))\n",
    "\n",
    "C = (A[..., np.newaxis, np.newaxis] == B)\n",
    "rows = np.where(C.any((3,1)).all(1))[0]\n",
    "print(rows)"
   ]
  },
  {
   "cell_type": "markdown",
   "metadata": {},
   "source": [
    "#### 94. 给定（10， 3）的矩阵， 找出包含不同元素的行"
   ]
  },
  {
   "cell_type": "code",
   "execution_count": null,
   "metadata": {
    "ExecuteTime": {
     "end_time": "2019-09-11T03:53:33.704025Z",
     "start_time": "2019-09-11T03:53:33.609205Z"
    }
   },
   "outputs": [],
   "source": [
    "Z = np.random.randint(0,5,(10,3))\n",
    "Z"
   ]
  },
  {
   "cell_type": "code",
   "execution_count": null,
   "metadata": {
    "ExecuteTime": {
     "end_time": "2019-09-11T03:53:33.804894Z",
     "start_time": "2019-09-11T03:53:33.706491Z"
    }
   },
   "outputs": [],
   "source": [
    "# 适用于任意数据类型\n",
    "E = np.all(Z[:,1:] == Z[:,:-1], axis=1)\n",
    "U = Z[~E]\n",
    "U"
   ]
  },
  {
   "cell_type": "code",
   "execution_count": null,
   "metadata": {
    "ExecuteTime": {
     "end_time": "2019-09-11T03:53:33.902959Z",
     "start_time": "2019-09-11T03:53:33.811297Z"
    }
   },
   "outputs": [],
   "source": [
    "# 仅适用于数值类型\n",
    "U = Z[Z.max(axis=1) != Z.min(axis=1),:]\n",
    "U"
   ]
  },
  {
   "cell_type": "markdown",
   "metadata": {},
   "source": [
    "#### 95. 将给定的整数向量转化为二进制矩阵"
   ]
  },
  {
   "cell_type": "code",
   "execution_count": null,
   "metadata": {
    "ExecuteTime": {
     "end_time": "2019-09-11T03:53:34.001270Z",
     "start_time": "2019-09-11T03:53:33.905784Z"
    }
   },
   "outputs": [],
   "source": [
    "I = np.array([0, 1, 2, 3, 15, 16, 32, 64, 128], dtype=np.uint8)\n",
    "print(np.unpackbits(I[:, np.newaxis], axis=1))"
   ]
  },
  {
   "cell_type": "markdown",
   "metadata": {},
   "source": [
    "#### 96. 给定二维数组，抽取所有不同的行"
   ]
  },
  {
   "cell_type": "code",
   "execution_count": null,
   "metadata": {
    "ExecuteTime": {
     "end_time": "2019-09-11T03:53:34.132630Z",
     "start_time": "2019-09-11T03:53:34.004373Z"
    }
   },
   "outputs": [],
   "source": [
    "Z = np.random.randint(0,2,(6,3))\n",
    "Z"
   ]
  },
  {
   "cell_type": "code",
   "execution_count": null,
   "metadata": {
    "ExecuteTime": {
     "end_time": "2019-09-11T03:53:34.279301Z",
     "start_time": "2019-09-11T03:53:34.135614Z"
    }
   },
   "outputs": [],
   "source": [
    "uZ = np.unique(Z, axis=0)\n",
    "uZ"
   ]
  },
  {
   "cell_type": "markdown",
   "metadata": {},
   "source": [
    "#### 97. 考虑两个数组A，B， 使用np.einsum写出矩阵间的outer, inner, sum, mul函数"
   ]
  },
  {
   "cell_type": "code",
   "execution_count": null,
   "metadata": {
    "ExecuteTime": {
     "end_time": "2019-09-11T03:53:34.377630Z",
     "start_time": "2019-09-11T03:53:34.281669Z"
    }
   },
   "outputs": [],
   "source": [
    "A = np.random.uniform(0,1,10)\n",
    "B = np.random.uniform(0,1,10)\n",
    "\n",
    "np.einsum('i->', A)       # np.sum(A)\n",
    "np.einsum('i,i->i', A, B) # A * B\n",
    "np.einsum('i,i', A, B)    # np.inner(A, B)\n",
    "np.einsum('i,j->ij', A, B)    # np.outer(A, B)"
   ]
  },
  {
   "cell_type": "markdown",
   "metadata": {},
   "source": [
    "#### 98. 用两个向量(X, Y)描述一条轨道，如何对其进行等距抽样"
   ]
  },
  {
   "cell_type": "code",
   "execution_count": null,
   "metadata": {
    "ExecuteTime": {
     "end_time": "2019-09-11T03:53:34.510627Z",
     "start_time": "2019-09-11T03:53:34.380481Z"
    }
   },
   "outputs": [],
   "source": [
    "phi = np.arange(0, 10*np.pi, 0.1)\n",
    "a = 1\n",
    "x = a*phi*np.cos(phi)\n",
    "y = a*phi*np.sin(phi)\n",
    "\n",
    "dr = (np.diff(x)**2 + np.diff(y)**2)**.5 # segment lengths\n",
    "r = np.zeros_like(x)\n",
    "r[1:] = np.cumsum(dr)                # integrate path\n",
    "r_int = np.linspace(0, r.max(), 200) # regular spaced path\n",
    "x_int = np.interp(r_int, r, x)       # integrate path\n",
    "y_int = np.interp(r_int, r, y)"
   ]
  },
  {
   "cell_type": "markdown",
   "metadata": {},
   "source": [
    "#### 99. 给定一个二维数组和一个整数n，提取所有仅包含整数，且元素和为n的行"
   ]
  },
  {
   "cell_type": "code",
   "execution_count": null,
   "metadata": {
    "ExecuteTime": {
     "end_time": "2019-09-11T03:53:34.612858Z",
     "start_time": "2019-09-11T03:53:34.512533Z"
    }
   },
   "outputs": [],
   "source": [
    "X = np.asarray([[1.0, 0.0, 3.0, 8.0],\n",
    "                [2.0, 0.0, 1.0, 1.0],\n",
    "                [1.5, 2.5, 1.0, 0.0]])\n",
    "n = 4\n",
    "M = np.logical_and.reduce(np.mod(X, 1) == 0, axis=-1)\n",
    "M &= (X.sum(axis=-1) == n)\n",
    "print(X[M])"
   ]
  },
  {
   "cell_type": "markdown",
   "metadata": {},
   "source": [
    "#### 100. 给定一个向量，计算其均值的95%的置信区间"
   ]
  },
  {
   "cell_type": "code",
   "execution_count": null,
   "metadata": {
    "ExecuteTime": {
     "end_time": "2019-09-11T03:54:49.491615Z",
     "start_time": "2019-09-11T03:54:49.479049Z"
    }
   },
   "outputs": [],
   "source": [
    "X = np.random.randn(100) \n",
    "N = 1000  # 再抽样次数\n",
    "idx = np.random.randint(0, X.size, (N, X.size))\n",
    "means = X[idx].mean(axis=1)\n",
    "confint = np.percentile(means, [2.5, 97.5])\n",
    "print(confint)"
   ]
  },
  {
   "cell_type": "code",
   "execution_count": null,
   "metadata": {},
   "outputs": [],
   "source": []
  }
 ],
 "metadata": {
  "kernelspec": {
   "display_name": "Python 3 (ipykernel)",
   "language": "python",
   "name": "python3"
  },
  "language_info": {
   "codemirror_mode": {
    "name": "ipython",
    "version": 3
   },
   "file_extension": ".py",
   "mimetype": "text/x-python",
   "name": "python",
   "nbconvert_exporter": "python",
   "pygments_lexer": "ipython3",
   "version": "3.13.1"
  },
  "toc": {
   "nav_menu": {},
   "number_sections": false,
   "sideBar": true,
   "skip_h1_title": false,
   "title_cell": "Table of Contents",
   "title_sidebar": "Contents",
   "toc_cell": false,
   "toc_position": {
    "height": "calc(100% - 180px)",
    "left": "10px",
    "top": "150px",
    "width": "275.2px"
   },
   "toc_section_display": true,
   "toc_window_display": true
  }
 },
 "nbformat": 4,
 "nbformat_minor": 4
}
